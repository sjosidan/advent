{
 "cells": [
  {
   "cell_type": "code",
   "execution_count": 14,
   "metadata": {},
   "outputs": [],
   "source": [
    "#import numpy as np\n",
    "import time\n",
    "#import pandas as pd\n",
    "import re\n",
    "#import matplotlib.pyplot as plt\n",
    "import math\n",
    "from collections import Counter\n",
    "\n",
    "\n"
   ]
  },
  {
   "cell_type": "code",
   "execution_count": 15,
   "metadata": {},
   "outputs": [
    {
     "name": "stdout",
     "output_type": "stream",
     "text": [
      "getEachRowAsSplitList [['hej', 'hej'], ['hej', 'nej']]\n",
      "getEachRowAsSingleString ['hej hej', 'hej nej']\n"
     ]
    }
   ],
   "source": [
    "def getEachRowAsSingleString(filename):\n",
    "    data01 = open(filename, \"r\")\n",
    "    lines = data01.read().splitlines()\n",
    "    return lines\n",
    "\n",
    "def getEachRowAsSplitList(filename, delim):\n",
    "    data01 = open(filename, \"r\")\n",
    "    lines = data01.read().splitlines()\n",
    "    ll = []\n",
    "    for l in lines :\n",
    "        ll.append(l.split(delim))\n",
    "    return ll\n",
    "\n",
    "#\n",
    "def most_frequent(List):\n",
    "    return max(set(List), key = List.count)\n",
    "\n",
    "#\n",
    "def least_frequent(List):\n",
    "    return min(set(List), key = List.count)\n",
    "\n",
    "#Retruns intersection of 2 lists\n",
    "def intersection(lst1, lst2):\n",
    "    return list(set(lst1) & set(lst2))    \n",
    "\n",
    "#Splits a string in half and returns both halves\n",
    "def splitstring(value):\n",
    "    string1, string2 = value[:len(value)//2], value[len(value)//2:]\n",
    "    return string1, string2\n",
    "\n",
    "def mergedLists(lists) :\n",
    "    out = []\n",
    "    while len(lists)>0:\n",
    "        first, *rest = lists\n",
    "        first = set(first)\n",
    "        lf = -1\n",
    "        while len(first)>lf:\n",
    "            lf = len(first)\n",
    "            rest2 = []\n",
    "            for r in rest:\n",
    "                if len(first.intersection(set(r)))>0:\n",
    "                    first |= set(r)\n",
    "                else:\n",
    "                    rest2.append(r)     \n",
    "            rest = rest2\n",
    "\n",
    "        out.append(first)\n",
    "        lists = rest\n",
    "    return out\n",
    "        \n",
    "def demoInput() :\n",
    "    lines = getEachRowAsSplitList(\"./inputs/demoinput.txt\", \" \")\n",
    "    multilines = getEachRowAsSingleString(\"./inputs/demoinput.txt\")\n",
    "    print(\"getEachRowAsSplitList\", lines)\n",
    "    print(\"getEachRowAsSingleString\", multilines)\n",
    "\n",
    "def get8Coordineighbours(x,y) :\n",
    "    neigh = [(x-1,y-1),(x,y-1),(x+1,y-1),(x-1,y),(x+1,y),(x-1,y+1),(x,y+1),(x+1,y+1)]\n",
    "    return neigh\n",
    "\n",
    "def get9Coordineighbours(x,y) :\n",
    "    neigh = []\n",
    "    neigh.append((x-1,y-1))\n",
    "    neigh.append((x,y-1))\n",
    "    neigh.append((x+1,y-1))\n",
    "    neigh.append((x-1,y))\n",
    "    neigh.append((x,y))\n",
    "    neigh.append((x+1,y))\n",
    "    neigh.append((x-1,y+1))\n",
    "    neigh.append((x,y+1))\n",
    "    neigh.append((x+1,y+1))\n",
    "    return neigh\n",
    "\n",
    "\n",
    "def get4Coordineighbours(x,y) :\n",
    "    neigh = []\n",
    "    neigh.append((x-1,y))\n",
    "    neigh.append((x,y-1))\n",
    "    neigh.append((x,y+1))\n",
    "    neigh.append((x+1,y))\n",
    "    return neigh\n",
    "\n",
    "def getPairs(test_list) :\n",
    "    res = [(a, b) for idx, a in enumerate(test_list) for b in test_list[idx + 1:]]\n",
    "    return res\n",
    "\n",
    "\n",
    "demoInput()"
   ]
  },
  {
   "cell_type": "code",
   "execution_count": 16,
   "metadata": {},
   "outputs": [
    {
     "name": "stdout",
     "output_type": "stream",
     "text": [
      "TASK01\n",
      "01A 69528\n",
      "01B 206152\n"
     ]
    }
   ],
   "source": [
    "def task01() : \n",
    "    print(\"TASK01\")\n",
    "    lines = getEachRowAsSingleString(\"inputs/01.txt\")\n",
    "\n",
    "    loctot = 0 \n",
    "    elves = []    \n",
    "    for l in lines :\n",
    "        if l  == \"\" :\n",
    "            elves.append(loctot)\n",
    "            loctot = 0\n",
    "        else :\n",
    "            loctot = loctot + int(l)\n",
    "            \n",
    "    elves.sort()\n",
    "    print(\"01A\", elves[-1])\n",
    "    print(\"01B\", elves[-1] + elves[-2] + elves[-3])\n",
    "task01()"
   ]
  },
  {
   "cell_type": "code",
   "execution_count": 17,
   "metadata": {},
   "outputs": [
    {
     "name": "stdout",
     "output_type": "stream",
     "text": [
      "TASK02\n",
      "02A 15572\n",
      "02B 16098\n"
     ]
    }
   ],
   "source": [
    "def task02() : \n",
    "    print(\"TASK02\")\n",
    "    lines = getEachRowAsSplitList(\"inputs/02.txt\", \" \")\n",
    "    \n",
    "    myPoints = 0\n",
    "    myPointsB = 0\n",
    "    for l in lines :\n",
    "        #B-TASKW\n",
    "        if l[0]  == \"A\" :\n",
    "            if l[1] == \"X\" :\n",
    "                myPoints = myPoints + 3 + 1\n",
    "                myPointsB = myPointsB + 0 + 3\n",
    "            elif l[1] == \"Y\":\n",
    "                myPoints = myPoints + 6 + 2\n",
    "                myPointsB = myPointsB + 3 + 1\n",
    "            else:\n",
    "                myPoints = myPoints + 0 + 3\n",
    "                myPointsB = myPointsB + 6 + 2\n",
    "        elif l[0] == \"B\" :\n",
    "            if l[1] == \"X\" :\n",
    "                myPoints = myPoints + 0 + 1\n",
    "                myPointsB = myPointsB + 0 + 1\n",
    "            elif l[1] == \"Y\":\n",
    "                myPoints = myPoints + 3 + 2\n",
    "                myPointsB = myPointsB + 3 + 2\n",
    "            else:\n",
    "                myPoints = myPoints + 6 + 3\n",
    "                myPointsB = myPointsB + 6 + 3\n",
    "        else :\n",
    "            if l[1] == \"X\" :\n",
    "                myPoints = myPoints + 6 + 1\n",
    "                myPointsB = myPointsB + 0 + 2\n",
    "            elif l[1] == \"Y\":\n",
    "                myPoints = myPoints + 0 + 2\n",
    "                myPointsB = myPointsB + 3 + 3\n",
    "            else:\n",
    "                myPoints = myPoints + 3 + 3\n",
    "                myPointsB = myPointsB + 6 + 1\n",
    "     \n",
    "    print(\"02A\", myPoints)\n",
    "    print(\"02B\", myPointsB)\n",
    "\n",
    "task02()\n"
   ]
  },
  {
   "cell_type": "code",
   "execution_count": 18,
   "metadata": {},
   "outputs": [
    {
     "name": "stdout",
     "output_type": "stream",
     "text": [
      "TASK03\n",
      "03A 7875\n",
      "03B 2479\n"
     ]
    }
   ],
   "source": [
    "def task03() : \n",
    "    print(\"TASK03\")\n",
    "    lines = getEachRowAsSingleString(\"inputs/03.txt\")\n",
    "    tot = 0\n",
    "    groupTot = 0 \n",
    "    ingroup = 1\n",
    "    lastPack = \"\"\n",
    "    chars = [*\"0abcdefghijklmnopqrstuvwxyzABCDEFGHIJKLMNOPQRSTUVWXYZ\"]\n",
    "    for l in lines :\n",
    "        #03A\n",
    "        comp1, comp2 = splitstring(l)\n",
    "        common = intersection([*comp1],[*comp2])\n",
    "        tot = chars.index(common[0]) + tot\n",
    "        #03B\n",
    "        if ingroup == 1 :\n",
    "            lastPack = l\n",
    "        else :\n",
    "            lastPack = intersection([*lastPack],[*l])\n",
    "            if ingroup == 3 :\n",
    "                groupTot  = chars.index(lastPack[0]) + groupTot\n",
    "                ingroup = 0\n",
    "        ingroup = ingroup + 1  \n",
    "            \n",
    "            \n",
    "    print(\"03A\", tot)\n",
    "    print(\"03B\", groupTot)\n",
    "task03()"
   ]
  },
  {
   "cell_type": "code",
   "execution_count": 20,
   "metadata": {},
   "outputs": [
    {
     "name": "stdout",
     "output_type": "stream",
     "text": [
      "TASK04\n"
     ]
    }
   ],
   "source": [
    "def task04() :\n",
    "    print(\"TASK04\")\n",
    "    lines = getEachRowAsSingleString(\"inputs/04.txt\")\n",
    "\n",
    "task04()"
   ]
  },
  {
   "cell_type": "code",
   "execution_count": null,
   "metadata": {},
   "outputs": [],
   "source": [
    "def task05() :\n",
    "    print(\"TASK05\")\n",
    "    lines = getEachRowAsSingleString(\"inputs/05.txt\")\n",
    "\n",
    "task05()"
   ]
  },
  {
   "cell_type": "code",
   "execution_count": null,
   "metadata": {},
   "outputs": [],
   "source": [
    "def task06() :\n",
    "    print(\"TASK06\")\n",
    "    lines = getEachRowAsSingleString(\"inputs/06.txt\")\n",
    "\n",
    "task06()"
   ]
  },
  {
   "cell_type": "code",
   "execution_count": null,
   "metadata": {},
   "outputs": [],
   "source": [
    "def task07() :\n",
    "    print(\"TASK07\")\n",
    "    lines = getEachRowAsSingleString(\"inputs/07.txt\")\n",
    "\n",
    "task07()"
   ]
  },
  {
   "cell_type": "code",
   "execution_count": null,
   "metadata": {},
   "outputs": [],
   "source": [
    "def task08() :\n",
    "    print(\"TASK08\")\n",
    "    lines = getEachRowAsSingleString(\"inputs/08.txt\")\n",
    "\n",
    "task08()"
   ]
  },
  {
   "cell_type": "code",
   "execution_count": null,
   "metadata": {},
   "outputs": [],
   "source": [
    "def task09() :\n",
    "    print(\"TASK09\")\n",
    "    lines = getEachRowAsSingleString(\"inputs/09.txt\")\n",
    "\n",
    "task09()"
   ]
  },
  {
   "cell_type": "code",
   "execution_count": null,
   "metadata": {},
   "outputs": [],
   "source": [
    "def task10() :\n",
    "    print(\"TASK10\")\n",
    "    lines = getEachRowAsSingleString(\"inputs/10.txt\")\n",
    "\n",
    "task10()"
   ]
  },
  {
   "cell_type": "code",
   "execution_count": null,
   "metadata": {},
   "outputs": [],
   "source": [
    "def task11() :\n",
    "    print(\"TASK11\")\n",
    "    lines = getEachRowAsSingleString(\"inputs/11.txt\")\n",
    "\n",
    "task11()"
   ]
  },
  {
   "cell_type": "code",
   "execution_count": null,
   "metadata": {},
   "outputs": [],
   "source": [
    "def task12() :\n",
    "    print(\"TASK12\")\n",
    "    lines = getEachRowAsSingleString(\"inputs/12.txt\")\n",
    "\n",
    "task12()"
   ]
  }
 ],
 "metadata": {
  "kernelspec": {
   "display_name": "Python 3.10.8 64-bit (microsoft store)",
   "language": "python",
   "name": "python3"
  },
  "language_info": {
   "codemirror_mode": {
    "name": "ipython",
    "version": 3
   },
   "file_extension": ".py",
   "mimetype": "text/x-python",
   "name": "python",
   "nbconvert_exporter": "python",
   "pygments_lexer": "ipython3",
   "version": "3.10.8"
  },
  "orig_nbformat": 4,
  "vscode": {
   "interpreter": {
    "hash": "0cb13d55e20b5b52e7ef549f48ea8c9ad028b6260fcbb5b0db33c4f9b0b7b924"
   }
  }
 },
 "nbformat": 4,
 "nbformat_minor": 2
}
