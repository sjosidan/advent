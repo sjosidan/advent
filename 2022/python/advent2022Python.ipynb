{
 "cells": [
  {
   "cell_type": "code",
   "execution_count": 1,
   "metadata": {},
   "outputs": [],
   "source": [
    "#import numpy as np\n",
    "import time\n",
    "#import pandas as pd\n",
    "import re\n",
    "#import matplotlib.pyplot as plt\n",
    "import math\n",
    "from collections import Counter\n",
    "\n",
    "\n"
   ]
  },
  {
   "cell_type": "code",
   "execution_count": 2,
   "metadata": {},
   "outputs": [
    {
     "name": "stdout",
     "output_type": "stream",
     "text": [
      "getEachRowAsSplitList [['hej', 'hej'], ['hej', 'nej']]\n",
      "getEachRowAsSingleString ['hej hej', 'hej nej']\n"
     ]
    }
   ],
   "source": [
    "def getEachRowAsSingleString(filename):\n",
    "    data01 = open(filename, \"r\")\n",
    "    lines = data01.read().splitlines()\n",
    "    return lines\n",
    "\n",
    "def getEachRowAsSplitList(filename, delim):\n",
    "    data01 = open(filename, \"r\")\n",
    "    lines = data01.read().splitlines()\n",
    "    ll = []\n",
    "    for l in lines :\n",
    "        ll.append(l.split(delim))\n",
    "    return ll\n",
    "\n",
    "#\n",
    "def most_frequent(List):\n",
    "    return max(set(List), key = List.count)\n",
    "\n",
    "#\n",
    "def least_frequent(List):\n",
    "    return min(set(List), key = List.count)\n",
    "\n",
    "#Retruns intersection of 2 lists\n",
    "def intersection(lst1, lst2):\n",
    "    return list(set(lst1) & set(lst2))    \n",
    "\n",
    "#Splits a string in half and returns both halves\n",
    "def splitstring(value):\n",
    "    string1, string2 = value[:len(value)//2], value[len(value)//2:]\n",
    "    return string1, string2\n",
    "\n",
    "def mergedLists(lists) :\n",
    "    out = []\n",
    "    while len(lists)>0:\n",
    "        first, *rest = lists\n",
    "        first = set(first)\n",
    "        lf = -1\n",
    "        while len(first)>lf:\n",
    "            lf = len(first)\n",
    "            rest2 = []\n",
    "            for r in rest:\n",
    "                if len(first.intersection(set(r)))>0:\n",
    "                    first |= set(r)\n",
    "                else:\n",
    "                    rest2.append(r)     \n",
    "            rest = rest2\n",
    "\n",
    "        out.append(first)\n",
    "        lists = rest\n",
    "    return out\n",
    "        \n",
    "def demoInput() :\n",
    "    lines = getEachRowAsSplitList(\"./inputs/demoinput.txt\", \" \")\n",
    "    multilines = getEachRowAsSingleString(\"./inputs/demoinput.txt\")\n",
    "    print(\"getEachRowAsSplitList\", lines)\n",
    "    print(\"getEachRowAsSingleString\", multilines)\n",
    "\n",
    "def get8Coordineighbours(x,y) :\n",
    "    neigh = [(x-1,y-1),(x,y-1),(x+1,y-1),(x-1,y),(x+1,y),(x-1,y+1),(x,y+1),(x+1,y+1)]\n",
    "    return neigh\n",
    "\n",
    "def get9Coordineighbours(x,y) :\n",
    "    neigh = []\n",
    "    neigh.append((x-1,y-1))\n",
    "    neigh.append((x,y-1))\n",
    "    neigh.append((x+1,y-1))\n",
    "    neigh.append((x-1,y))\n",
    "    neigh.append((x,y))\n",
    "    neigh.append((x+1,y))\n",
    "    neigh.append((x-1,y+1))\n",
    "    neigh.append((x,y+1))\n",
    "    neigh.append((x+1,y+1))\n",
    "    return neigh\n",
    "\n",
    "\n",
    "def get4Coordineighbours(x,y) :\n",
    "    neigh = []\n",
    "    neigh.append((x-1,y))\n",
    "    neigh.append((x,y-1))\n",
    "    neigh.append((x,y+1))\n",
    "    neigh.append((x+1,y))\n",
    "    return neigh\n",
    "\n",
    "def getPairs(test_list) :\n",
    "    res = [(a, b) for idx, a in enumerate(test_list) for b in test_list[idx + 1:]]\n",
    "    return res\n",
    "\n",
    "\n",
    "demoInput()"
   ]
  },
  {
   "cell_type": "code",
   "execution_count": 3,
   "metadata": {},
   "outputs": [
    {
     "name": "stdout",
     "output_type": "stream",
     "text": [
      "TASK01\n",
      "01A 69528\n",
      "01B 206152\n"
     ]
    }
   ],
   "source": [
    "def task01() : \n",
    "    print(\"TASK01\")\n",
    "    lines = getEachRowAsSingleString(\"inputs/01.txt\")\n",
    "\n",
    "    loctot = 0 \n",
    "    elves = []    \n",
    "    for l in lines :\n",
    "        if l  == \"\" :\n",
    "            elves.append(loctot)\n",
    "            loctot = 0\n",
    "        else :\n",
    "            loctot = loctot + int(l)\n",
    "            \n",
    "    elves.sort()\n",
    "    print(\"01A\", elves[-1])\n",
    "    print(\"01B\", elves[-1] + elves[-2] + elves[-3])\n",
    "task01()"
   ]
  },
  {
   "cell_type": "code",
   "execution_count": 4,
   "metadata": {},
   "outputs": [
    {
     "name": "stdout",
     "output_type": "stream",
     "text": [
      "TASK02\n",
      "02A 15572\n",
      "02B 16098\n"
     ]
    }
   ],
   "source": [
    "def task02() : \n",
    "    print(\"TASK02\")\n",
    "    lines = getEachRowAsSplitList(\"inputs/02.txt\", \" \")\n",
    "    \n",
    "    myPoints = 0\n",
    "    myPointsB = 0\n",
    "    for l in lines :\n",
    "        #B-TASKW\n",
    "        if l[0]  == \"A\" :\n",
    "            if l[1] == \"X\" :\n",
    "                myPoints = myPoints + 3 + 1\n",
    "                myPointsB = myPointsB + 0 + 3\n",
    "            elif l[1] == \"Y\":\n",
    "                myPoints = myPoints + 6 + 2\n",
    "                myPointsB = myPointsB + 3 + 1\n",
    "            else:\n",
    "                myPoints = myPoints + 0 + 3\n",
    "                myPointsB = myPointsB + 6 + 2\n",
    "        elif l[0] == \"B\" :\n",
    "            if l[1] == \"X\" :\n",
    "                myPoints = myPoints + 0 + 1\n",
    "                myPointsB = myPointsB + 0 + 1\n",
    "            elif l[1] == \"Y\":\n",
    "                myPoints = myPoints + 3 + 2\n",
    "                myPointsB = myPointsB + 3 + 2\n",
    "            else:\n",
    "                myPoints = myPoints + 6 + 3\n",
    "                myPointsB = myPointsB + 6 + 3\n",
    "        else :\n",
    "            if l[1] == \"X\" :\n",
    "                myPoints = myPoints + 6 + 1\n",
    "                myPointsB = myPointsB + 0 + 2\n",
    "            elif l[1] == \"Y\":\n",
    "                myPoints = myPoints + 0 + 2\n",
    "                myPointsB = myPointsB + 3 + 3\n",
    "            else:\n",
    "                myPoints = myPoints + 3 + 3\n",
    "                myPointsB = myPointsB + 6 + 1\n",
    "     \n",
    "    print(\"02A\", myPoints)\n",
    "    print(\"02B\", myPointsB)\n",
    "\n",
    "task02()\n"
   ]
  },
  {
   "cell_type": "code",
   "execution_count": 5,
   "metadata": {},
   "outputs": [
    {
     "name": "stdout",
     "output_type": "stream",
     "text": [
      "TASK03\n",
      "03A 7875\n",
      "03B 2479\n"
     ]
    }
   ],
   "source": [
    "def task03() : \n",
    "    print(\"TASK03\")\n",
    "    lines = getEachRowAsSingleString(\"inputs/03.txt\")\n",
    "    tot = 0\n",
    "    groupTot = 0 \n",
    "    ingroup = 1\n",
    "    lastPack = \"\"\n",
    "    chars = [*\"0abcdefghijklmnopqrstuvwxyzABCDEFGHIJKLMNOPQRSTUVWXYZ\"]\n",
    "    for l in lines :\n",
    "        #03A\n",
    "        comp1, comp2 = splitstring(l)\n",
    "        common = intersection([*comp1],[*comp2])\n",
    "        tot = chars.index(common[0]) + tot\n",
    "        #03B\n",
    "        if ingroup == 1 :\n",
    "            lastPack = l\n",
    "        else :\n",
    "            lastPack = intersection([*lastPack],[*l])\n",
    "            if ingroup == 3 :\n",
    "                groupTot  = chars.index(lastPack[0]) + groupTot\n",
    "                ingroup = 0\n",
    "        ingroup = ingroup + 1  \n",
    "            \n",
    "            \n",
    "    print(\"03A\", tot)\n",
    "    print(\"03B\", groupTot)\n",
    "task03()"
   ]
  },
  {
   "cell_type": "code",
   "execution_count": 6,
   "metadata": {},
   "outputs": [
    {
     "name": "stdout",
     "output_type": "stream",
     "text": [
      "TASK04\n"
     ]
    }
   ],
   "source": [
    "def task04() :\n",
    "    print(\"TASK04\")\n",
    "    lines = getEachRowAsSingleString(\"inputs/04.txt\")\n",
    "\n",
    "task04()"
   ]
  },
  {
   "cell_type": "code",
   "execution_count": 7,
   "metadata": {},
   "outputs": [
    {
     "name": "stdout",
     "output_type": "stream",
     "text": [
      "TASK05\n"
     ]
    }
   ],
   "source": [
    "def task05() :\n",
    "    print(\"TASK05\")\n",
    "    lines = getEachRowAsSingleString(\"inputs/05.txt\")\n",
    "\n",
    "task05()"
   ]
  },
  {
   "cell_type": "code",
   "execution_count": 8,
   "metadata": {},
   "outputs": [
    {
     "name": "stdout",
     "output_type": "stream",
     "text": [
      "TASK06\n"
     ]
    },
    {
     "ename": "FileNotFoundError",
     "evalue": "[Errno 2] No such file or directory: 'inputs/06.txt'",
     "output_type": "error",
     "traceback": [
      "\u001b[1;31m---------------------------------------------------------------------------\u001b[0m",
      "\u001b[1;31mFileNotFoundError\u001b[0m                         Traceback (most recent call last)",
      "Cell \u001b[1;32mIn[8], line 5\u001b[0m\n\u001b[0;32m      2\u001b[0m     \u001b[39mprint\u001b[39m(\u001b[39m\"\u001b[39m\u001b[39mTASK06\u001b[39m\u001b[39m\"\u001b[39m)\n\u001b[0;32m      3\u001b[0m     lines \u001b[39m=\u001b[39m getEachRowAsSingleString(\u001b[39m\"\u001b[39m\u001b[39minputs/06.txt\u001b[39m\u001b[39m\"\u001b[39m)\n\u001b[1;32m----> 5\u001b[0m task06()\n",
      "Cell \u001b[1;32mIn[8], line 3\u001b[0m, in \u001b[0;36mtask06\u001b[1;34m()\u001b[0m\n\u001b[0;32m      1\u001b[0m \u001b[39mdef\u001b[39;00m \u001b[39mtask06\u001b[39m() :\n\u001b[0;32m      2\u001b[0m     \u001b[39mprint\u001b[39m(\u001b[39m\"\u001b[39m\u001b[39mTASK06\u001b[39m\u001b[39m\"\u001b[39m)\n\u001b[1;32m----> 3\u001b[0m     lines \u001b[39m=\u001b[39m getEachRowAsSingleString(\u001b[39m\"\u001b[39;49m\u001b[39minputs/06.txt\u001b[39;49m\u001b[39m\"\u001b[39;49m)\n",
      "Cell \u001b[1;32mIn[2], line 2\u001b[0m, in \u001b[0;36mgetEachRowAsSingleString\u001b[1;34m(filename)\u001b[0m\n\u001b[0;32m      1\u001b[0m \u001b[39mdef\u001b[39;00m \u001b[39mgetEachRowAsSingleString\u001b[39m(filename):\n\u001b[1;32m----> 2\u001b[0m     data01 \u001b[39m=\u001b[39m \u001b[39mopen\u001b[39;49m(filename, \u001b[39m\"\u001b[39;49m\u001b[39mr\u001b[39;49m\u001b[39m\"\u001b[39;49m)\n\u001b[0;32m      3\u001b[0m     lines \u001b[39m=\u001b[39m data01\u001b[39m.\u001b[39mread()\u001b[39m.\u001b[39msplitlines()\n\u001b[0;32m      4\u001b[0m     \u001b[39mreturn\u001b[39;00m lines\n",
      "File \u001b[1;32m~\\AppData\\Local\\Packages\\PythonSoftwareFoundation.Python.3.10_qbz5n2kfra8p0\\LocalCache\\local-packages\\Python310\\site-packages\\IPython\\core\\interactiveshell.py:282\u001b[0m, in \u001b[0;36m_modified_open\u001b[1;34m(file, *args, **kwargs)\u001b[0m\n\u001b[0;32m    275\u001b[0m \u001b[39mif\u001b[39;00m file \u001b[39min\u001b[39;00m {\u001b[39m0\u001b[39m, \u001b[39m1\u001b[39m, \u001b[39m2\u001b[39m}:\n\u001b[0;32m    276\u001b[0m     \u001b[39mraise\u001b[39;00m \u001b[39mValueError\u001b[39;00m(\n\u001b[0;32m    277\u001b[0m         \u001b[39mf\u001b[39m\u001b[39m\"\u001b[39m\u001b[39mIPython won\u001b[39m\u001b[39m'\u001b[39m\u001b[39mt let you open fd=\u001b[39m\u001b[39m{\u001b[39;00mfile\u001b[39m}\u001b[39;00m\u001b[39m by default \u001b[39m\u001b[39m\"\u001b[39m\n\u001b[0;32m    278\u001b[0m         \u001b[39m\"\u001b[39m\u001b[39mas it is likely to crash IPython. If you know what you are doing, \u001b[39m\u001b[39m\"\u001b[39m\n\u001b[0;32m    279\u001b[0m         \u001b[39m\"\u001b[39m\u001b[39myou can use builtins\u001b[39m\u001b[39m'\u001b[39m\u001b[39m open.\u001b[39m\u001b[39m\"\u001b[39m\n\u001b[0;32m    280\u001b[0m     )\n\u001b[1;32m--> 282\u001b[0m \u001b[39mreturn\u001b[39;00m io_open(file, \u001b[39m*\u001b[39margs, \u001b[39m*\u001b[39m\u001b[39m*\u001b[39mkwargs)\n",
      "\u001b[1;31mFileNotFoundError\u001b[0m: [Errno 2] No such file or directory: 'inputs/06.txt'"
     ]
    }
   ],
   "source": [
    "def task06() :\n",
    "    print(\"TASK06\")\n",
    "    lines = getEachRowAsSingleString(\"inputs/06.txt\")\n",
    "\n",
    "task06()"
   ]
  },
  {
   "cell_type": "code",
   "execution_count": null,
   "metadata": {},
   "outputs": [],
   "source": [
    "def task07() :\n",
    "    print(\"TASK07\")\n",
    "    lines = getEachRowAsSingleString(\"inputs/07.txt\")\n",
    "\n",
    "task07()"
   ]
  },
  {
   "cell_type": "code",
   "execution_count": null,
   "metadata": {},
   "outputs": [],
   "source": [
    "def task08() :\n",
    "    print(\"TASK08\")\n",
    "    lines = getEachRowAsSingleString(\"inputs/08.txt\")\n",
    "\n",
    "task08()"
   ]
  },
  {
   "cell_type": "code",
   "execution_count": null,
   "metadata": {},
   "outputs": [],
   "source": [
    "def task09() :\n",
    "    print(\"TASK09\")\n",
    "    lines = getEachRowAsSingleString(\"inputs/09.txt\")\n",
    "\n",
    "task09()"
   ]
  },
  {
   "cell_type": "code",
   "execution_count": null,
   "metadata": {},
   "outputs": [],
   "source": [
    "def task10() :\n",
    "    print(\"TASK10\")\n",
    "    lines = getEachRowAsSingleString(\"inputs/10.txt\")\n",
    "\n",
    "task10()"
   ]
  },
  {
   "cell_type": "code",
   "execution_count": null,
   "metadata": {},
   "outputs": [],
   "source": [
    "def task11() :\n",
    "    print(\"TASK11\")\n",
    "    lines = getEachRowAsSingleString(\"inputs/11.txt\")\n",
    "\n",
    "task11()"
   ]
  },
  {
   "cell_type": "code",
   "execution_count": null,
   "metadata": {},
   "outputs": [],
   "source": [
    "def task12() :\n",
    "    print(\"TASK12\")\n",
    "    lines = getEachRowAsSingleString(\"inputs/12.txt\")\n",
    "\n",
    "task12()"
   ]
  }
 ],
 "metadata": {
  "kernelspec": {
   "display_name": "Python 3.10.8 64-bit (microsoft store)",
   "language": "python",
   "name": "python3"
  },
  "language_info": {
   "codemirror_mode": {
    "name": "ipython",
    "version": 3
   },
   "file_extension": ".py",
   "mimetype": "text/x-python",
   "name": "python",
   "nbconvert_exporter": "python",
   "pygments_lexer": "ipython3",
   "version": "3.10.8"
  },
  "orig_nbformat": 4,
  "vscode": {
   "interpreter": {
    "hash": "0cb13d55e20b5b52e7ef549f48ea8c9ad028b6260fcbb5b0db33c4f9b0b7b924"
   }
  }
 },
 "nbformat": 4,
 "nbformat_minor": 2
}
