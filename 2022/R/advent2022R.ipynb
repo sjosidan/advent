{
 "cells": [
  {
   "cell_type": "code",
   "execution_count": 20,
   "metadata": {
    "vscode": {
     "languageId": "r"
    }
   },
   "outputs": [],
   "source": [
    "setwd(\"inputs\")\n"
   ]
  },
  {
   "cell_type": "code",
   "execution_count": 21,
   "metadata": {
    "vscode": {
     "languageId": "r"
    }
   },
   "outputs": [
    {
     "data": {
      "text/html": [
       "69528"
      ],
      "text/latex": [
       "69528"
      ],
      "text/markdown": [
       "69528"
      ],
      "text/plain": [
       "[1] 69528"
      ]
     },
     "metadata": {},
     "output_type": "display_data"
    },
    {
     "data": {
      "text/html": [
       "206152"
      ],
      "text/latex": [
       "206152"
      ],
      "text/markdown": [
       "206152"
      ],
      "text/plain": [
       "[1] 206152"
      ]
     },
     "metadata": {},
     "output_type": "display_data"
    }
   ],
   "source": [
    "my_data <- read.csv(\"01.csv\", sep=';')\n",
    "sorted = rowSums(my_data, na.rm=TRUE)\n",
    "taskA = max(sorted)\n",
    "n <- nrow(my_data)\n",
    "taskB <- sort(sorted,partial=n-1)[n-1] + sort(sorted,partial=n-2)[n-2] + taskA\n",
    "taskA\n",
    "taskB\n",
    "\n"
   ]
  },
  {
   "cell_type": "code",
   "execution_count": 22,
   "metadata": {
    "vscode": {
     "languageId": "r"
    }
   },
   "outputs": [
    {
     "data": {
      "text/html": [
       "15572"
      ],
      "text/latex": [
       "15572"
      ],
      "text/markdown": [
       "15572"
      ],
      "text/plain": [
       "[1] 15572"
      ]
     },
     "metadata": {},
     "output_type": "display_data"
    },
    {
     "data": {
      "text/html": [
       "16098"
      ],
      "text/latex": [
       "16098"
      ],
      "text/markdown": [
       "16098"
      ],
      "text/plain": [
       "[1] 16098"
      ]
     },
     "metadata": {},
     "output_type": "display_data"
    }
   ],
   "source": [
    "my_data <- read.csv(\"02.csv\", sep=';')\n",
    "task02a <- sum(rowSums(my_data[ , c(3,4)], na.rm=TRUE))\n",
    "task02b <- sum(rowSums(my_data[ , c(5,6)], na.rm=TRUE))\n",
    "task02a\n",
    "task02b"
   ]
  },
  {
   "cell_type": "code",
   "execution_count": 23,
   "metadata": {
    "vscode": {
     "languageId": "r"
    }
   },
   "outputs": [
    {
     "data": {
      "text/html": [
       "7875"
      ],
      "text/latex": [
       "7875"
      ],
      "text/markdown": [
       "7875"
      ],
      "text/plain": [
       "[1] 7875"
      ]
     },
     "metadata": {},
     "output_type": "display_data"
    },
    {
     "data": {
      "text/html": [
       "2479"
      ],
      "text/latex": [
       "2479"
      ],
      "text/markdown": [
       "2479"
      ],
      "text/plain": [
       "[1] 2479"
      ]
     },
     "metadata": {},
     "output_type": "display_data"
    }
   ],
   "source": [
    "lines <- readLines(\"03.txt\")\n",
    "alphabet <- c(letters, LETTERS)\n",
    "\n",
    "halves <- lapply(lines, function(x) {\n",
    "  n <- nchar(x)\n",
    "  half1 <- substr(x, 1, n/2)\n",
    "  half2 <- substr(x, n/2+1, n)\n",
    "  return(c(half1, half2))\n",
    "})\n",
    "\n",
    "task03a <- 0 \n",
    "for (item in halves) {\n",
    "    string1 <- item[1]\n",
    "    string2 <- item[2]\n",
    "    characters1 <- unlist(strsplit(string1, \"\"))\n",
    "    characters2 <- unlist(strsplit(string2, \"\"))\n",
    "    intersections <- intersect(characters1, characters2)\n",
    "\n",
    "    task03a = task03a + match(intersections[1], alphabet)\n",
    "}\n",
    "\n",
    "task03b <- 0\n",
    "lastChars <- list()\n",
    "for (i in seq_along(lines)) {\n",
    "    \n",
    "    l <- lines[i]\n",
    "    characters <- unlist(strsplit(l, \"\"))\n",
    "  \n",
    "    if (i %% 3 == 1) {\n",
    "        lastChars <- characters\n",
    "    }\n",
    "\n",
    "    intersections <- intersect(characters, lastChars)\n",
    "    \n",
    "    if (i %% 3 == 0) {\n",
    "        task03b = task03b + match(intersections[1], alphabet)\n",
    "    }\n",
    "    lastChars <- intersections\n",
    "}\n",
    "\n",
    "task03a\n",
    "task03b"
   ]
  },
  {
   "cell_type": "code",
   "execution_count": 24,
   "metadata": {
    "vscode": {
     "languageId": "r"
    }
   },
   "outputs": [
    {
     "data": {
      "text/html": [
       "453"
      ],
      "text/latex": [
       "453"
      ],
      "text/markdown": [
       "453"
      ],
      "text/plain": [
       "[1] 453"
      ]
     },
     "metadata": {},
     "output_type": "display_data"
    },
    {
     "data": {
      "text/html": [
       "919"
      ],
      "text/latex": [
       "919"
      ],
      "text/markdown": [
       "919"
      ],
      "text/plain": [
       "[1] 919"
      ]
     },
     "metadata": {},
     "output_type": "display_data"
    }
   ],
   "source": [
    "data <- read.csv(\"04.csv\", sep=\";\")\n",
    "n <- nrow(data)\n",
    "task04a <- 0\n",
    "task04b <- 0\n",
    "for (i in 1:n) {\n",
    "    range1 <- seq(from = data[i, 1], to = data[i, 2], by = 1)\n",
    "    range2 <- seq(from = data[i, 3], to = data[i, 4], by = 1)\n",
    "\n",
    "    if (all(range2 %in% range1)) {\n",
    "        task04a <- task04a + 1\n",
    "    } else if (all(range1 %in% range2)) {\n",
    "        task04a <- task04a + 1\n",
    "    }\n",
    "\n",
    "    if (any(range2 %in% range1)) {\n",
    "        task04b <- task04b + 1\n",
    "    } else if (any(range1 %in% range2)) {\n",
    "        task04b <- task04b + 1\n",
    "    }\n",
    "}\n",
    "\n",
    "task04a\n",
    "task04b"
   ]
  },
  {
   "cell_type": "code",
   "execution_count": 89,
   "metadata": {
    "vscode": {
     "languageId": "r"
    }
   },
   "outputs": [
    {
     "data": {
      "text/html": [
       "'F W S H S P J W M'"
      ],
      "text/latex": [
       "'F W S H S P J W M'"
      ],
      "text/markdown": [
       "'F W S H S P J W M'"
      ],
      "text/plain": [
       "[1] \"F W S H S P J W M\""
      ]
     },
     "metadata": {},
     "output_type": "display_data"
    },
    {
     "data": {
      "text/html": [
       "'P W P W H G F Z S'"
      ],
      "text/latex": [
       "'P W P W H G F Z S'"
      ],
      "text/markdown": [
       "'P W P W H G F Z S'"
      ],
      "text/plain": [
       "[1] \"P W P W H G F Z S\""
      ]
     },
     "metadata": {},
     "output_type": "display_data"
    }
   ],
   "source": [
    "\n",
    "data <- read.csv(\"05.csv\", sep=\";\")\n",
    "n <- nrow(data)\n",
    "\n",
    "stacksA <- list(\n",
    "stack1 = c(\"S\",\"Z\",\"P\",\"D\",\"L\",\"B\",\"F\",\"C\"),\n",
    "stack2 = c(\"N\",\"V\",\"G\",\"P\",\"H\",\"W\",\"B\"),\n",
    "stack3 = c(\"F\",\"W\",\"B\",\"J\",\"G\"),\n",
    "stack4 = c(\"G\",\"J\",\"N\",\"F\",\"L\",\"W\",\"C\",\"S\"),\n",
    "stack5 = c(\"W\",\"J\",\"L\",\"T\",\"P\",\"M\",\"S\",\"H\"),\n",
    "stack6 = c(\"B\",\"C\",\"W\",\"G\",\"F\",\"S\"),\n",
    "stack7 = c(\"H\",\"T\",\"P\",\"M\",\"Q\",\"B\",\"W\"),\n",
    "stack8 = c(\"F\",\"S\",\"W\",\"T\"),\n",
    "stack9 = c(\"N\",\"C\",\"R\")\n",
    ")\n",
    "stacksB <- stacksA\n",
    "\n",
    "#TASK A\n",
    "for (i in 1:n) {\n",
    "    for (j in 1:data[i, 1]) {\n",
    "        stackFrom <- stacksA[[data[i, 2]]] \n",
    "        stackTo <- stacksA[[data[i, 3]]] \n",
    "        stackTo <- c(stackTo, stackFrom[length(stackFrom)]) \n",
    "        stackFrom <- stackFrom[1:length(stackFrom) - 1] \n",
    "        stacksA[[data[i, 3]]] <- stackTo \n",
    "        stacksA[[data[i, 2]]] <- stackFrom \n",
    "    }\n",
    "}\n",
    "\n",
    "last_elements <- map(stacksA, tail, 1)\n",
    "paste(last_elements, collapse = \" \")\n",
    "\n",
    "#TASK B\n",
    "for (i in 1:n) {\n",
    "    \n",
    "    stackFrom <- stacksB[[data[i, 2]]] # get to Move\n",
    "    stackTo <- stacksB[[data[i, 3]]] # get to move to\n",
    "    stackTo <- c(stackTo, tail(stackFrom, data[i, 1])) # append the elements of stackFrom to stackto\n",
    "    stackFrom <- head(stackFrom,length(stackFrom) - data[i, 1]  ) #Remove elements from stackFrom\n",
    "    stacksB[[data[i, 3]]] <- stackTo # update stackTo\n",
    "    stacksB[[data[i, 2]]] <- stackFrom # update stackFrom\n",
    "\n",
    "}\n",
    "last_elements <- map(stacksB, tail, 1)\n",
    "paste(last_elements, collapse = \" \")\n",
    "\n",
    "\n",
    "\n"
   ]
  }
 ],
 "metadata": {
  "kernelspec": {
   "display_name": "R",
   "language": "R",
   "name": "ir"
  },
  "language_info": {
   "codemirror_mode": "r",
   "file_extension": ".r",
   "mimetype": "text/x-r-source",
   "name": "R",
   "pygments_lexer": "r",
   "version": "3.6.1"
  },
  "orig_nbformat": 4,
  "vscode": {
   "interpreter": {
    "hash": "0cb13d55e20b5b52e7ef549f48ea8c9ad028b6260fcbb5b0db33c4f9b0b7b924"
   }
  }
 },
 "nbformat": 4,
 "nbformat_minor": 2
}
