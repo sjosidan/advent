{
 "cells": [
  {
   "cell_type": "code",
   "execution_count": 2,
   "metadata": {
    "vscode": {
     "languageId": "r"
    }
   },
   "outputs": [],
   "source": [
    "setwd(\"inputs\")"
   ]
  },
  {
   "cell_type": "code",
   "execution_count": 3,
   "metadata": {
    "vscode": {
     "languageId": "r"
    }
   },
   "outputs": [
    {
     "data": {
      "text/html": [
       "69528"
      ],
      "text/latex": [
       "69528"
      ],
      "text/markdown": [
       "69528"
      ],
      "text/plain": [
       "[1] 69528"
      ]
     },
     "metadata": {},
     "output_type": "display_data"
    },
    {
     "data": {
      "text/html": [
       "206152"
      ],
      "text/latex": [
       "206152"
      ],
      "text/markdown": [
       "206152"
      ],
      "text/plain": [
       "[1] 206152"
      ]
     },
     "metadata": {},
     "output_type": "display_data"
    }
   ],
   "source": [
    "my_data <- read.csv(\"01.csv\", sep=';')\n",
    "sorted = rowSums(my_data, na.rm=TRUE)\n",
    "taskA = max(sorted)\n",
    "n <- nrow(my_data)\n",
    "taskB <- sort(sorted,partial=n-1)[n-1] + sort(sorted,partial=n-2)[n-2] + taskA\n",
    "taskA\n",
    "taskB\n",
    "\n"
   ]
  },
  {
   "cell_type": "code",
   "execution_count": 4,
   "metadata": {
    "vscode": {
     "languageId": "r"
    }
   },
   "outputs": [
    {
     "data": {
      "text/html": [
       "15572"
      ],
      "text/latex": [
       "15572"
      ],
      "text/markdown": [
       "15572"
      ],
      "text/plain": [
       "[1] 15572"
      ]
     },
     "metadata": {},
     "output_type": "display_data"
    },
    {
     "data": {
      "text/html": [
       "16098"
      ],
      "text/latex": [
       "16098"
      ],
      "text/markdown": [
       "16098"
      ],
      "text/plain": [
       "[1] 16098"
      ]
     },
     "metadata": {},
     "output_type": "display_data"
    }
   ],
   "source": [
    "my_data <- read.csv(\"02.csv\", sep=';')\n",
    "task02a <- sum(rowSums(my_data[ , c(3,4)], na.rm=TRUE))\n",
    "task02b <- sum(rowSums(my_data[ , c(5,6)], na.rm=TRUE))\n",
    "task02a\n",
    "task02b"
   ]
  },
  {
   "cell_type": "code",
   "execution_count": 7,
   "metadata": {
    "vscode": {
     "languageId": "r"
    }
   },
   "outputs": [
    {
     "data": {
      "text/html": [
       "7875"
      ],
      "text/latex": [
       "7875"
      ],
      "text/markdown": [
       "7875"
      ],
      "text/plain": [
       "[1] 7875"
      ]
     },
     "metadata": {},
     "output_type": "display_data"
    },
    {
     "data": {
      "text/html": [
       "2479"
      ],
      "text/latex": [
       "2479"
      ],
      "text/markdown": [
       "2479"
      ],
      "text/plain": [
       "[1] 2479"
      ]
     },
     "metadata": {},
     "output_type": "display_data"
    }
   ],
   "source": [
    "lines <- readLines(\"03.txt\")\n",
    "alphabet <- c(letters, LETTERS)\n",
    "\n",
    "halves <- lapply(lines, function(x) {\n",
    "  n <- nchar(x)\n",
    "  half1 <- substr(x, 1, n/2)\n",
    "  half2 <- substr(x, n/2+1, n)\n",
    "  return(c(half1, half2))\n",
    "})\n",
    "\n",
    "task03a <- 0 \n",
    "for (item in halves) {\n",
    "    string1 <- item[1]\n",
    "    string2 <- item[2]\n",
    "    characters1 <- unlist(strsplit(string1, \"\"))\n",
    "    characters2 <- unlist(strsplit(string2, \"\"))\n",
    "    intersections <- intersect(characters1, characters2)\n",
    "\n",
    "    task03a = task03a + match(intersections[1], alphabet)\n",
    "}\n",
    "\n",
    "task03b <- 0\n",
    "lastChars <- list()\n",
    "for (i in seq_along(lines)) {\n",
    "    \n",
    "    l <- lines[i]\n",
    "    characters <- unlist(strsplit(l, \"\"))\n",
    "  \n",
    "    if (i %% 3 == 1) {\n",
    "        lastChars <- characters\n",
    "    }\n",
    "\n",
    "    intersections <- intersect(characters, lastChars)\n",
    "    \n",
    "    if (i %% 3 == 0) {\n",
    "        task03b = task03b + match(intersections[1], alphabet)\n",
    "    }\n",
    "    lastChars <- intersections\n",
    "}\n",
    "\n",
    "task03a\n",
    "task03b"
   ]
  },
  {
   "cell_type": "code",
   "execution_count": 6,
   "metadata": {
    "vscode": {
     "languageId": "r"
    }
   },
   "outputs": [
    {
     "data": {
      "text/html": [
       "453"
      ],
      "text/latex": [
       "453"
      ],
      "text/markdown": [
       "453"
      ],
      "text/plain": [
       "[1] 453"
      ]
     },
     "metadata": {},
     "output_type": "display_data"
    },
    {
     "data": {
      "text/html": [
       "919"
      ],
      "text/latex": [
       "919"
      ],
      "text/markdown": [
       "919"
      ],
      "text/plain": [
       "[1] 919"
      ]
     },
     "metadata": {},
     "output_type": "display_data"
    }
   ],
   "source": [
    "data <- read.csv(\"04.csv\", sep=\";\")\n",
    "n <- nrow(data)\n",
    "task04a <- 0\n",
    "task04b <- 0\n",
    "for (i in 1:n) {\n",
    "    range1 <- seq(from = data[i, 1], to = data[i, 2], by = 1)\n",
    "    range2 <- seq(from = data[i, 3], to = data[i, 4], by = 1)\n",
    "\n",
    "    if (all(range2 %in% range1)) {\n",
    "        task04a <- task04a + 1\n",
    "    } else if (all(range1 %in% range2)) {\n",
    "        task04a <- task04a + 1\n",
    "    }\n",
    "\n",
    "    if (any(range2 %in% range1)) {\n",
    "        task04b <- task04b + 1\n",
    "    } else if (any(range1 %in% range2)) {\n",
    "        task04b <- task04b + 1\n",
    "    }\n",
    "}\n",
    "\n",
    "task04a\n",
    "task04b"
   ]
  }
 ],
 "metadata": {
  "kernelspec": {
   "display_name": "R",
   "language": "R",
   "name": "ir"
  },
  "language_info": {
   "codemirror_mode": "r",
   "file_extension": ".r",
   "mimetype": "text/x-r-source",
   "name": "R",
   "pygments_lexer": "r",
   "version": "3.6.1"
  },
  "orig_nbformat": 4,
  "vscode": {
   "interpreter": {
    "hash": "0cb13d55e20b5b52e7ef549f48ea8c9ad028b6260fcbb5b0db33c4f9b0b7b924"
   }
  }
 },
 "nbformat": 4,
 "nbformat_minor": 2
}
