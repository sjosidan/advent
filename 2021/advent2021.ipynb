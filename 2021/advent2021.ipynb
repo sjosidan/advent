{
 "cells": [
  {
   "cell_type": "code",
   "execution_count": 109,
   "metadata": {},
   "outputs": [],
   "source": [
    "import numpy as np\n",
    "import pandas as pd\n",
    "import re\n"
   ]
  },
  {
   "cell_type": "code",
   "execution_count": 8,
   "metadata": {},
   "outputs": [],
   "source": [
    "def getEachRowAsSingleString(filename):\n",
    "    data01 = open(filename, \"r\")\n",
    "    lines = data01.read().splitlines()\n",
    "    return lines\n",
    "\n",
    "def getEachRowAsSplitList(filename, delim):\n",
    "    data01 = open(filename, \"r\")\n",
    "    lines = data01.read().splitlines()\n",
    "    ll = []\n",
    "    for l in lines :\n",
    "        ll.append(l.split(delim))\n",
    "    return ll\n",
    "\n",
    "def most_frequent(List):\n",
    "    return max(set(List), key = List.count)\n",
    "\n",
    "def least_frequent(List):\n",
    "    return min(set(List), key = List.count)\n",
    "\n",
    "def demoInput() :\n",
    "    lines = getEachRowAsSplitList(\"demoinput.txt\", \" \")\n",
    "    multilines = getEachRowAsSingleString(\"demoinput.txt\")\n",
    "    print(\"getEachRowAsSplitList\", lines)\n",
    "    print(\"getEachRowAsSingleString\", multilines)"
   ]
  },
  {
   "cell_type": "code",
   "execution_count": 181,
   "metadata": {},
   "outputs": [
    {
     "name": "stdout",
     "output_type": "stream",
     "text": [
      "TASK01\n",
      "1A 1342\n",
      "1B 1378\n"
     ]
    }
   ],
   "source": [
    "def task01() : \n",
    "    print(\"TASK01\")\n",
    "    lines = getEachRowAsSingleString(\"01.txt\")\n",
    "    val = 100000000\n",
    "    increased = 0\n",
    "    tripInc = 0\n",
    "    cnt = 0\n",
    "    for l in lines :\n",
    "        #B-TASK\n",
    "        if cnt > 3 :\n",
    "            firstTrip = int(lines[cnt-4]) + int(lines[cnt-3]) + int(lines[cnt-2])\n",
    "            secTrip = int(lines[cnt-3]) + int(lines[cnt-2]) + int(lines[cnt-1])\n",
    "            thirdTrip = int(lines[cnt-2]) + int(lines[cnt-1]) + int(lines[cnt])\n",
    "            if secTrip > firstTrip :\n",
    "                tripInc = tripInc + 1\n",
    "            if cnt == len(lines) - 1 :\n",
    "                if thirdTrip > secTrip :\n",
    "                    tripInc = tripInc + 1\n",
    "        #A-TASK\n",
    "        if val < int(l) :\n",
    "            increased = increased + 1\n",
    "        val = int(l) \n",
    "        cnt = cnt + 1 \n",
    "    print(\"1A\", increased) \n",
    "    print(\"1B\" ,tripInc)\n",
    "\n",
    "task01()\n"
   ]
  },
  {
   "cell_type": "code",
   "execution_count": 184,
   "metadata": {},
   "outputs": [
    {
     "name": "stdout",
     "output_type": "stream",
     "text": [
      "TasK02\n",
      "2A 1690020\n",
      "2B 1408487760\n"
     ]
    }
   ],
   "source": [
    "def task02() :\n",
    "    print(\"TasK02\")\n",
    "    lines = getEachRowAsSplitList(\"02.txt\", \" \")\n",
    "    f = 0\n",
    "    d1 = 0 \n",
    "    d2 = 0 \n",
    "    a = 0\n",
    "    hor = 0\n",
    "    for l in lines :\n",
    "        if l[0] == \"down\":\n",
    "            d1 = d1 + int(l[1])\n",
    "            a = a + int(l[1])\n",
    "        elif l[0] == \"up\":\n",
    "            d1 = d1 - int(l[1])\n",
    "            a = a - int(l[1])\n",
    "        elif l[0] == \"forward\" :\n",
    "            f = f + int(l[1])\n",
    "            hor = hor + int(l[1])\n",
    "            d2 = d2 + (a*int(l[1]))\n",
    "        \n",
    "    print(\"2A\", d1*f)\n",
    "    print(\"2B\", d2*hor)\n",
    "\n",
    "task02()"
   ]
  },
  {
   "cell_type": "code",
   "execution_count": 55,
   "metadata": {},
   "outputs": [
    {
     "name": "stdout",
     "output_type": "stream",
     "text": [
      "TasK03\n",
      "03A 852500\n",
      "03b 1007985\n"
     ]
    }
   ],
   "source": [
    "def task03() :\n",
    "    print(\"TasK03\")\n",
    "    lines = getEachRowAsSingleString(\"03.txt\")\n",
    "    nums = getFrequency(lines)\n",
    "    gamma = \"\"\n",
    "    epsilon = \"\"\n",
    "    for a in nums :\n",
    "        if (nums[a]) > 500 :\n",
    "            gamma = gamma + \"1\"\n",
    "            epsilon = epsilon + \"0\"\n",
    "        else :\n",
    "            gamma = gamma + \"0\"\n",
    "            epsilon = epsilon + \"1\"\n",
    "    \n",
    "    print(\"03A\", int(epsilon,2) * int(gamma,2))\n",
    "\n",
    "    # oxygen generator rating\n",
    "    oxygens = lines\n",
    "    seed = \"\"\n",
    "    for a in range(12) :\n",
    "        if nums[str(a)] >= (len(oxygens) / 2):\n",
    "            seed = seed + \"1\"\n",
    "            oxygens = getFilteredList(oxygens, seed)\n",
    "        else :\n",
    "            seed = seed + \"0\"\n",
    "            oxygens = getFilteredList(oxygens, seed)\n",
    "            \n",
    "        nums = getFrequency(oxygens)\n",
    "        if len(oxygens) == 1 :\n",
    "            break\n",
    "\n",
    "\n",
    "    #FRESH VARIABLES for CO2 scrubber rating\n",
    "    seed = \"\"\n",
    "    nums = getFrequency(lines)\n",
    "    scrubber = lines   \n",
    "   \n",
    "    for a in range(12) :\n",
    "        if nums[str(a)] >= len(scrubber) / 2:\n",
    "            seed = seed + \"0\"\n",
    "            scrubber = getFilteredList(scrubber, seed)\n",
    "        else :\n",
    "            seed = seed + \"1\"\n",
    "            scrubber = getFilteredList(scrubber, seed)\n",
    "            \n",
    "        nums = getFrequency(scrubber)\n",
    "        if len(scrubber) == 1 :\n",
    "            break\n",
    "\n",
    "    print(\"03b\", int(oxygens[0],2) * int(scrubber[0],2))\n",
    "\n",
    "\n",
    "def getFrequency(lines) :\n",
    "    nums = getCleanDict()\n",
    "    for li in lines :\n",
    "        index = 0\n",
    "        for l in li :\n",
    "            nums[str(index)] =  nums[str(index)] + int(l)\n",
    "            index = index + 1\n",
    "    return nums\n",
    "\n",
    "def getFilteredList(liii, seed) :\n",
    "    newList = []\n",
    "    for l  in liii  :\n",
    "        if str(l).startswith(seed) :\n",
    "            newList.append(l)\n",
    "    return newList\n",
    "\n",
    "def getCleanDict() :\n",
    "    return {'0' : 0, '1' : 0, '2' : 0, '3' : 0,\n",
    "            '4' : 0, '5' : 0, '6' : 0, '7' : 0, \n",
    "            '8' : 0, '9' : 0, '10' : 0, '11' : 0}\n",
    "\n",
    "task03()"
   ]
  },
  {
   "cell_type": "code",
   "execution_count": 183,
   "metadata": {},
   "outputs": [
    {
     "name": "stdout",
     "output_type": "stream",
     "text": [
      "getEachRowAsSplitList [['hej', 'hej'], ['hej', 'nej']]\n",
      "getEachRowAsSingleString ['hej hej', 'hej nej']\n"
     ]
    }
   ],
   "source": [
    "demoInput()\n"
   ]
  },
  {
   "cell_type": "code",
   "execution_count": null,
   "metadata": {},
   "outputs": [],
   "source": []
  },
  {
   "cell_type": "markdown",
   "metadata": {},
   "source": []
  },
  {
   "cell_type": "code",
   "execution_count": null,
   "metadata": {},
   "outputs": [],
   "source": []
  },
  {
   "cell_type": "code",
   "execution_count": 4,
   "metadata": {},
   "outputs": [
    {
     "name": "stdout",
     "output_type": "stream",
     "text": [
      "79 350917\n",
      "06b 1098892254449521\n"
     ]
    }
   ],
   "source": [
    "def task06() :\n",
    "    fish = [5,4,3,5,1,1,2,1,2,1,3,2,3,4,5,1,2,4,3,2,5,1,4,2,1,1,2,5,4,4,4,1,5,4,5,2,1,2,5,5,4,1,3,1,4,2,4,2,5,1,3,5,3,2,3,1,1,4,5,2,4,3,1,5,5,1,3,1,3,2,2,4,1,3,4,3,3,4,1,3,4,3,4,5,2,1,1,1,4,5,5,1,1,3,2,4,1,2,2,2,4,1,2,5,5,1,4,5,2,4,2,1,5,4,1,3,4,1,2,3,1,5,1,3,4,5,4,1,4,3,3,3,5,5,1,1,5,1,5,5,1,5,2,1,5,1,2,3,5,5,1,3,3,1,5,3,4,3,4,3,2,5,2,1,2,5,1,1,1,1,5,1,1,4,3,3,5,1,1,1,4,4,1,3,3,5,5,4,3,2,1,2,2,3,4,1,5,4,3,1,1,5,1,4,2,3,2,2,3,4,1,3,4,1,4,3,4,3,1,3,3,1,1,4,1,1,1,4,5,3,1,1,2,5,2,5,1,5,3,3,1,3,5,5,1,5,4,3,1,5,1,1,5,5,1,1,2,5,5,5,1,1,3,2,2,3,4,5,5,2,5,4,2,1,5,1,4,4,5,4,4,1,2,1,1,2,3,5,5,1,3,1,4,2,3,3,1,4,1,1]\n",
    "    #fish = [3,4,3,1,2]\n",
    "    pow = 1\n",
    "\n",
    "\n",
    "   \n",
    "    for day in range(80) :\n",
    "        newSpawn = []\n",
    "        counter = 0\n",
    "\n",
    "        for a in fish :\n",
    "            if( a == 0 ) :\n",
    "                fish[counter] = 6\n",
    "                newSpawn.append(8)\n",
    "            else :\n",
    "                fish[counter] = fish[counter] - 1 \n",
    "           \n",
    "            counter = counter + 1\n",
    "    \n",
    "        fish.extend(newSpawn)\n",
    "    print(\"06a\",day+1,len(fish))\n",
    "    tot = 0\n",
    "    \n",
    "    for a in fish :\n",
    "            if( a == 1 ) :\n",
    "                tot = tot + 6206821033\n",
    "            elif (a == 2) :\n",
    "                tot = tot + 5617089148\n",
    "            elif (a == 3) :\n",
    "                tot = tot + 5217223242\n",
    "            elif (a == 4) :\n",
    "                tot = tot + 4726100874\n",
    "            elif (a == 5) :\n",
    "                tot = tot + 4368232009\n",
    "\n",
    "    print(\"06b\", tot )\n",
    "task06()"
   ]
  }
 ],
 "metadata": {
  "interpreter": {
   "hash": "3cce444031bf5cf3aad78ebdbbb74d98a7faea21c2acc09f4402afffc3f8baae"
  },
  "kernelspec": {
   "display_name": "Python 3.9.7 64-bit ('base': conda)",
   "language": "python",
   "name": "python3"
  },
  "language_info": {
   "codemirror_mode": {
    "name": "ipython",
    "version": 3
   },
   "file_extension": ".py",
   "mimetype": "text/x-python",
   "name": "python",
   "nbconvert_exporter": "python",
   "pygments_lexer": "ipython3",
   "version": "3.9.7"
  },
  "orig_nbformat": 4
 },
 "nbformat": 4,
 "nbformat_minor": 2
}
