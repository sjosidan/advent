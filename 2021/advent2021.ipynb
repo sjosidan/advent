{
 "cells": [
  {
   "cell_type": "code",
   "execution_count": 179,
   "metadata": {},
   "outputs": [],
   "source": [
    "import numpy as np\n",
    "import pandas as pd\n",
    "import re\n"
   ]
  },
  {
   "cell_type": "code",
   "execution_count": 180,
   "metadata": {},
   "outputs": [],
   "source": [
    "def getEachRowAsSingleString(filename):\n",
    "    data01 = open(filename, \"r\")\n",
    "    lines = data01.read().splitlines()\n",
    "    return lines\n",
    "\n",
    "def getEachRowAsSplitList(filename, delim):\n",
    "    data01 = open(filename, \"r\")\n",
    "    lines = data01.read().splitlines()\n",
    "    ll = []\n",
    "    for l in lines :\n",
    "        ll.append(l.split(delim))\n",
    "    return ll\n",
    "\n",
    "def most_frequent(List):\n",
    "    return max(set(List), key = List.count)\n",
    "\n",
    "def least_frequent(List):\n",
    "    return min(set(List), key = List.count)\n",
    "\n",
    "def demoInput() :\n",
    "    lines = getEachRowAsSplitList(\"demoinput.txt\", \" \")\n",
    "    multilines = getEachRowAsSingleString(\"demoinput.txt\")\n",
    "    print(\"getEachRowAsSplitList\", lines)\n",
    "    print(\"getEachRowAsSingleString\", multilines)"
   ]
  },
  {
   "cell_type": "code",
   "execution_count": 181,
   "metadata": {},
   "outputs": [
    {
     "name": "stdout",
     "output_type": "stream",
     "text": [
      "TASK01\n",
      "1A 1342\n",
      "1B 1378\n"
     ]
    }
   ],
   "source": [
    "def task01() : \n",
    "    print(\"TASK01\")\n",
    "    lines = getEachRowAsSingleString(\"01.txt\")\n",
    "    val = 100000000\n",
    "    increased = 0\n",
    "    tripInc = 0\n",
    "    cnt = 0\n",
    "    for l in lines :\n",
    "        #B-TASK\n",
    "        if cnt > 3 :\n",
    "            firstTrip = int(lines[cnt-4]) + int(lines[cnt-3]) + int(lines[cnt-2])\n",
    "            secTrip = int(lines[cnt-3]) + int(lines[cnt-2]) + int(lines[cnt-1])\n",
    "            thirdTrip = int(lines[cnt-2]) + int(lines[cnt-1]) + int(lines[cnt])\n",
    "            if secTrip > firstTrip :\n",
    "                tripInc = tripInc + 1\n",
    "            if cnt == len(lines) - 1 :\n",
    "                if thirdTrip > secTrip :\n",
    "                    tripInc = tripInc + 1\n",
    "        #A-TASK\n",
    "        if val < int(l) :\n",
    "            increased = increased + 1\n",
    "        val = int(l) \n",
    "        cnt = cnt + 1 \n",
    "    print(\"1A\", increased) \n",
    "    print(\"1B\" ,tripInc)\n",
    "\n",
    "task01()\n"
   ]
  },
  {
   "cell_type": "code",
   "execution_count": 184,
   "metadata": {},
   "outputs": [
    {
     "name": "stdout",
     "output_type": "stream",
     "text": [
      "TasK02\n",
      "2A 1690020\n",
      "2B 1408487760\n"
     ]
    }
   ],
   "source": [
    "def task02() :\n",
    "    print(\"TasK02\")\n",
    "    lines = getEachRowAsSplitList(\"02.txt\", \" \")\n",
    "    f = 0\n",
    "    d1 = 0 \n",
    "    d2 = 0 \n",
    "    a = 0\n",
    "    hor = 0\n",
    "    for l in lines :\n",
    "        if l[0] == \"down\":\n",
    "            d1 = d1 + int(l[1])\n",
    "            a = a + int(l[1])\n",
    "        elif l[0] == \"up\":\n",
    "            d1 = d1 - int(l[1])\n",
    "            a = a - int(l[1])\n",
    "        elif l[0] == \"forward\" :\n",
    "            f = f + int(l[1])\n",
    "            hor = hor + int(l[1])\n",
    "            d2 = d2 + (a*int(l[1]))\n",
    "        \n",
    "    print(\"2A\", d1*f)\n",
    "    print(\"2B\", d2*hor)\n",
    "\n",
    "task02()"
   ]
  },
  {
   "cell_type": "code",
   "execution_count": 183,
   "metadata": {},
   "outputs": [
    {
     "name": "stdout",
     "output_type": "stream",
     "text": [
      "getEachRowAsSplitList [['hej', 'hej'], ['hej', 'nej']]\n",
      "getEachRowAsSingleString ['hej hej', 'hej nej']\n"
     ]
    }
   ],
   "source": [
    "demoInput()\n"
   ]
  },
  {
   "cell_type": "code",
   "execution_count": null,
   "metadata": {},
   "outputs": [],
   "source": []
  },
  {
   "cell_type": "code",
   "execution_count": null,
   "metadata": {},
   "outputs": [],
   "source": []
  }
 ],
 "metadata": {
  "interpreter": {
   "hash": "3cce444031bf5cf3aad78ebdbbb74d98a7faea21c2acc09f4402afffc3f8baae"
  },
  "kernelspec": {
   "display_name": "Python 3.9.7 64-bit ('base': conda)",
   "language": "python",
   "name": "python3"
  },
  "language_info": {
   "codemirror_mode": {
    "name": "ipython",
    "version": 3
   },
   "file_extension": ".py",
   "mimetype": "text/x-python",
   "name": "python",
   "nbconvert_exporter": "python",
   "pygments_lexer": "ipython3",
   "version": "3.9.7"
  },
  "orig_nbformat": 4
 },
 "nbformat": 4,
 "nbformat_minor": 2
}
