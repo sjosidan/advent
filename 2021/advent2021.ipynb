{
 "cells": [
  {
   "cell_type": "code",
   "execution_count": 53,
   "metadata": {},
   "outputs": [],
   "source": [
    "import numpy as np\n",
    "import pandas as pd\n",
    "import re\n"
   ]
  },
  {
   "cell_type": "code",
   "execution_count": 54,
   "metadata": {},
   "outputs": [],
   "source": [
    "def getEachRowAsSingleString(filename):\n",
    "    data01 = open(filename, \"r\")\n",
    "    lines = data01.read().splitlines()\n",
    "    return lines\n",
    "\n",
    "def getEachRowAsSplitList(filename, delim):\n",
    "    data01 = open(filename, \"r\")\n",
    "    lines = data01.read().splitlines()\n",
    "    ll = []\n",
    "    for l in lines :\n",
    "        ll.append(l.split(delim))\n",
    "    return ll\n",
    "\n",
    "def most_frequent(List):\n",
    "    return max(set(List), key = List.count)\n",
    "\n",
    "def least_frequent(List):\n",
    "    return min(set(List), key = List.count)\n",
    "\n",
    "def demoInput() :\n",
    "    lines = getEachRowAsSplitList(\"01.txt\", \" \")\n",
    "    multilines = getEachRowAsSingleString(\"01.txt\")\n",
    "    print(\"getEachRowAsSplitList\", lines)\n",
    "    print(\"getEachRowAsSingleString\", multilines)"
   ]
  },
  {
   "cell_type": "code",
   "execution_count": 55,
   "metadata": {},
   "outputs": [],
   "source": [
    "def task01() : \n",
    "    print(\"TASK01\")\n"
   ]
  },
  {
   "cell_type": "code",
   "execution_count": 56,
   "metadata": {},
   "outputs": [
    {
     "name": "stdout",
     "output_type": "stream",
     "text": [
      "getEachRowAsSplitList [['hej', 'hej'], ['hej', 'nej']]\n",
      "getEachRowAsSingleString ['hej hej', 'hej nej']\n",
      "TASK01\n"
     ]
    }
   ],
   "source": [
    "demoInput()\n",
    "task01()\n"
   ]
  },
  {
   "cell_type": "code",
   "execution_count": null,
   "metadata": {},
   "outputs": [],
   "source": []
  },
  {
   "cell_type": "code",
   "execution_count": null,
   "metadata": {},
   "outputs": [],
   "source": []
  }
 ],
 "metadata": {
  "interpreter": {
   "hash": "3cce444031bf5cf3aad78ebdbbb74d98a7faea21c2acc09f4402afffc3f8baae"
  },
  "kernelspec": {
   "display_name": "Python 3.9.7 64-bit ('base': conda)",
   "language": "python",
   "name": "python3"
  },
  "language_info": {
   "codemirror_mode": {
    "name": "ipython",
    "version": 3
   },
   "file_extension": ".py",
   "mimetype": "text/x-python",
   "name": "python",
   "nbconvert_exporter": "python",
   "pygments_lexer": "ipython3",
   "version": "3.9.7"
  },
  "orig_nbformat": 4
 },
 "nbformat": 4,
 "nbformat_minor": 2
}
