{
 "cells": [
  {
   "cell_type": "code",
   "execution_count": 121,
   "metadata": {},
   "outputs": [],
   "source": [
    "import numpy as np\n",
    "import pandas as pd\n",
    "import re\n"
   ]
  },
  {
   "cell_type": "code",
   "execution_count": 122,
   "metadata": {},
   "outputs": [],
   "source": [
    "def getEachRowAsSingleString(filename):\n",
    "    data01 = open(filename, \"r\")\n",
    "    lines = data01.read().splitlines()\n",
    "    return lines\n",
    "\n",
    "def getEachRowAsSplitList(filename, delim):\n",
    "    data01 = open(filename, \"r\")\n",
    "    lines = data01.read().splitlines()\n",
    "    ll = []\n",
    "    for l in lines :\n",
    "        ll.append(l.split(delim))\n",
    "    return ll\n",
    "\n",
    "def most_frequent(List):\n",
    "    return max(set(List), key = List.count)\n",
    "\n",
    "def least_frequent(List):\n",
    "    return min(set(List), key = List.count)\n",
    "\n",
    "def demoInput() :\n",
    "    lines = getEachRowAsSplitList(\"01.txt\", \" \")\n",
    "    multilines = getEachRowAsSingleString(\"01.txt\")\n",
    "    print(\"getEachRowAsSplitList\", lines)\n",
    "    print(\"getEachRowAsSingleString\", multilines)"
   ]
  },
  {
   "cell_type": "code",
   "execution_count": 123,
   "metadata": {},
   "outputs": [],
   "source": [
    "def task01() : \n",
    "    print(\"TASK01\")\n",
    "    lines = getEachRowAsSingleString(\"01.txt\")\n",
    "    val = 100000000\n",
    "    increased = 0\n",
    "    tripInc = 0\n",
    "    cnt = 0\n",
    "    firstTrip = 0 \n",
    "    secTrip = 0\n",
    "    thirdTrip = 0\n",
    "    for l in lines :\n",
    "        if cnt > 3 :\n",
    "            firstTrip = int(lines[cnt-4]) + int(lines[cnt-3]) + int(lines[cnt-2])\n",
    "            secTrip = int(lines[cnt-3]) + int(lines[cnt-2]) + int(lines[cnt-1])\n",
    "            thirdTrip = int(lines[cnt-2]) + int(lines[cnt-1]) + int(lines[cnt])\n",
    "            if secTrip > firstTrip :\n",
    "                tripInc = tripInc + 1\n",
    "            if cnt == len(lines) - 1 :\n",
    "                if thirdTrip > secTrip :\n",
    "                    tripInc = tripInc + 1\n",
    "        if val < int(l) :\n",
    "            increased = increased + 1\n",
    "        val = int(l) \n",
    "        cnt = cnt + 1 \n",
    "    print(increased)\n",
    "    print(tripInc)\n"
   ]
  },
  {
   "cell_type": "code",
   "execution_count": 124,
   "metadata": {},
   "outputs": [
    {
     "name": "stdout",
     "output_type": "stream",
     "text": [
      "TASK01\n",
      "1342\n",
      "1378\n"
     ]
    }
   ],
   "source": [
    "#demoInput()\n",
    "task01()\n"
   ]
  },
  {
   "cell_type": "code",
   "execution_count": null,
   "metadata": {},
   "outputs": [],
   "source": []
  },
  {
   "cell_type": "code",
   "execution_count": null,
   "metadata": {},
   "outputs": [],
   "source": []
  }
 ],
 "metadata": {
  "interpreter": {
   "hash": "3cce444031bf5cf3aad78ebdbbb74d98a7faea21c2acc09f4402afffc3f8baae"
  },
  "kernelspec": {
   "display_name": "Python 3.9.7 64-bit ('base': conda)",
   "language": "python",
   "name": "python3"
  },
  "language_info": {
   "codemirror_mode": {
    "name": "ipython",
    "version": 3
   },
   "file_extension": ".py",
   "mimetype": "text/x-python",
   "name": "python",
   "nbconvert_exporter": "python",
   "pygments_lexer": "ipython3",
   "version": "3.9.7"
  },
  "orig_nbformat": 4
 },
 "nbformat": 4,
 "nbformat_minor": 2
}
