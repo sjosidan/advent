{
 "cells": [
  {
   "cell_type": "code",
   "execution_count": 109,
   "metadata": {},
   "outputs": [],
   "source": [
    "import numpy as np\n",
    "import pandas as pd\n",
    "import re\n"
   ]
  },
  {
   "cell_type": "code",
   "execution_count": 8,
   "metadata": {},
   "outputs": [],
   "source": [
    "def getEachRowAsSingleString(filename):\n",
    "    data01 = open(filename, \"r\")\n",
    "    lines = data01.read().splitlines()\n",
    "    return lines\n",
    "\n",
    "def getEachRowAsSplitList(filename, delim):\n",
    "    data01 = open(filename, \"r\")\n",
    "    lines = data01.read().splitlines()\n",
    "    ll = []\n",
    "    for l in lines :\n",
    "        ll.append(l.split(delim))\n",
    "    return ll\n",
    "\n",
    "def most_frequent(List):\n",
    "    return max(set(List), key = List.count)\n",
    "\n",
    "def least_frequent(List):\n",
    "    return min(set(List), key = List.count)\n",
    "\n",
    "def demoInput() :\n",
    "    lines = getEachRowAsSplitList(\"demoinput.txt\", \" \")\n",
    "    multilines = getEachRowAsSingleString(\"demoinput.txt\")\n",
    "    print(\"getEachRowAsSplitList\", lines)\n",
    "    print(\"getEachRowAsSingleString\", multilines)"
   ]
  },
  {
   "cell_type": "code",
   "execution_count": 181,
   "metadata": {},
   "outputs": [
    {
     "name": "stdout",
     "output_type": "stream",
     "text": [
      "TASK01\n",
      "1A 1342\n",
      "1B 1378\n"
     ]
    }
   ],
   "source": [
    "def task01() : \n",
    "    print(\"TASK01\")\n",
    "    lines = getEachRowAsSingleString(\"01.txt\")\n",
    "    val = 100000000\n",
    "    increased = 0\n",
    "    tripInc = 0\n",
    "    cnt = 0\n",
    "    for l in lines :\n",
    "        #B-TASK\n",
    "        if cnt > 3 :\n",
    "            firstTrip = int(lines[cnt-4]) + int(lines[cnt-3]) + int(lines[cnt-2])\n",
    "            secTrip = int(lines[cnt-3]) + int(lines[cnt-2]) + int(lines[cnt-1])\n",
    "            thirdTrip = int(lines[cnt-2]) + int(lines[cnt-1]) + int(lines[cnt])\n",
    "            if secTrip > firstTrip :\n",
    "                tripInc = tripInc + 1\n",
    "            if cnt == len(lines) - 1 :\n",
    "                if thirdTrip > secTrip :\n",
    "                    tripInc = tripInc + 1\n",
    "        #A-TASK\n",
    "        if val < int(l) :\n",
    "            increased = increased + 1\n",
    "        val = int(l) \n",
    "        cnt = cnt + 1 \n",
    "    print(\"1A\", increased) \n",
    "    print(\"1B\" ,tripInc)\n",
    "\n",
    "task01()\n"
   ]
  },
  {
   "cell_type": "code",
   "execution_count": 184,
   "metadata": {},
   "outputs": [
    {
     "name": "stdout",
     "output_type": "stream",
     "text": [
      "TasK02\n",
      "2A 1690020\n",
      "2B 1408487760\n"
     ]
    }
   ],
   "source": [
    "def task02() :\n",
    "    print(\"TasK02\")\n",
    "    lines = getEachRowAsSplitList(\"02.txt\", \" \")\n",
    "    f = 0\n",
    "    d1 = 0 \n",
    "    d2 = 0 \n",
    "    a = 0\n",
    "    hor = 0\n",
    "    for l in lines :\n",
    "        if l[0] == \"down\":\n",
    "            d1 = d1 + int(l[1])\n",
    "            a = a + int(l[1])\n",
    "        elif l[0] == \"up\":\n",
    "            d1 = d1 - int(l[1])\n",
    "            a = a - int(l[1])\n",
    "        elif l[0] == \"forward\" :\n",
    "            f = f + int(l[1])\n",
    "            hor = hor + int(l[1])\n",
    "            d2 = d2 + (a*int(l[1]))\n",
    "        \n",
    "    print(\"2A\", d1*f)\n",
    "    print(\"2B\", d2*hor)\n",
    "\n",
    "task02()"
   ]
  },
  {
   "cell_type": "code",
   "execution_count": 55,
   "metadata": {},
   "outputs": [
    {
     "name": "stdout",
     "output_type": "stream",
     "text": [
      "TasK03\n",
      "03A 852500\n",
      "03b 1007985\n"
     ]
    }
   ],
   "source": [
    "def task03() :\n",
    "    print(\"TasK03\")\n",
    "    lines = getEachRowAsSingleString(\"03.txt\")\n",
    "    nums = getFrequency(lines)\n",
    "    gamma = \"\"\n",
    "    epsilon = \"\"\n",
    "    for a in nums :\n",
    "        if (nums[a]) > 500 :\n",
    "            gamma = gamma + \"1\"\n",
    "            epsilon = epsilon + \"0\"\n",
    "        else :\n",
    "            gamma = gamma + \"0\"\n",
    "            epsilon = epsilon + \"1\"\n",
    "    \n",
    "    print(\"03A\", int(epsilon,2) * int(gamma,2))\n",
    "\n",
    "    # oxygen generator rating\n",
    "    oxygens = lines\n",
    "    seed = \"\"\n",
    "    for a in range(12) :\n",
    "        if nums[str(a)] >= (len(oxygens) / 2):\n",
    "            seed = seed + \"1\"\n",
    "            oxygens = getFilteredList(oxygens, seed)\n",
    "        else :\n",
    "            seed = seed + \"0\"\n",
    "            oxygens = getFilteredList(oxygens, seed)\n",
    "            \n",
    "        nums = getFrequency(oxygens)\n",
    "        if len(oxygens) == 1 :\n",
    "            break\n",
    "\n",
    "\n",
    "    #FRESH VARIABLES for CO2 scrubber rating\n",
    "    seed = \"\"\n",
    "    nums = getFrequency(lines)\n",
    "    scrubber = lines   \n",
    "   \n",
    "    for a in range(12) :\n",
    "        if nums[str(a)] >= len(scrubber) / 2:\n",
    "            seed = seed + \"0\"\n",
    "            scrubber = getFilteredList(scrubber, seed)\n",
    "        else :\n",
    "            seed = seed + \"1\"\n",
    "            scrubber = getFilteredList(scrubber, seed)\n",
    "            \n",
    "        nums = getFrequency(scrubber)\n",
    "        if len(scrubber) == 1 :\n",
    "            break\n",
    "\n",
    "    print(\"03b\", int(oxygens[0],2) * int(scrubber[0],2))\n",
    "\n",
    "\n",
    "def getFrequency(lines) :\n",
    "    nums = getCleanDict()\n",
    "    for li in lines :\n",
    "        index = 0\n",
    "        for l in li :\n",
    "            nums[str(index)] =  nums[str(index)] + int(l)\n",
    "            index = index + 1\n",
    "    return nums\n",
    "\n",
    "def getFilteredList(liii, seed) :\n",
    "    newList = []\n",
    "    for l  in liii  :\n",
    "        if str(l).startswith(seed) :\n",
    "            newList.append(l)\n",
    "    return newList\n",
    "\n",
    "def getCleanDict() :\n",
    "    return {'0' : 0, '1' : 0, '2' : 0, '3' : 0,\n",
    "            '4' : 0, '5' : 0, '6' : 0, '7' : 0, \n",
    "            '8' : 0, '9' : 0, '10' : 0, '11' : 0}\n",
    "\n",
    "task03()"
   ]
  },
  {
   "cell_type": "code",
   "execution_count": 183,
   "metadata": {},
   "outputs": [
    {
     "name": "stdout",
     "output_type": "stream",
     "text": [
      "getEachRowAsSplitList [['hej', 'hej'], ['hej', 'nej']]\n",
      "getEachRowAsSingleString ['hej hej', 'hej nej']\n"
     ]
    }
   ],
   "source": [
    "demoInput()\n"
   ]
  },
  {
   "cell_type": "code",
   "execution_count": 88,
   "metadata": {},
   "outputs": [
    {
     "name": "stdout",
     "output_type": "stream",
     "text": [
      "BINGO on board 0 15912\n",
      "BINGO on board 1 23994\n",
      "BINGO on board 5 30567\n",
      "BINGO on board 29 12635\n"
     ]
    }
   ],
   "source": []
  },
  {
   "cell_type": "code",
   "execution_count": 144,
   "metadata": {},
   "outputs": [
    {
     "ename": "NameError",
     "evalue": "name 'X2' is not defined",
     "output_type": "error",
     "traceback": [
      "\u001b[1;31m---------------------------------------------------------------------------\u001b[0m",
      "\u001b[1;31mNameError\u001b[0m                                 Traceback (most recent call last)",
      "\u001b[1;32m~\\AppData\\Local\\Temp/ipykernel_32468/1885332894.py\u001b[0m in \u001b[0;36m<module>\u001b[1;34m\u001b[0m\n\u001b[0;32m     72\u001b[0m \u001b[1;33m\u001b[0m\u001b[0m\n\u001b[0;32m     73\u001b[0m     \u001b[0mprint\u001b[0m\u001b[1;33m(\u001b[0m\u001b[0mcounter\u001b[0m\u001b[1;33m)\u001b[0m\u001b[1;33m\u001b[0m\u001b[1;33m\u001b[0m\u001b[0m\n\u001b[1;32m---> 74\u001b[1;33m \u001b[0mtask05\u001b[0m\u001b[1;33m(\u001b[0m\u001b[1;33m)\u001b[0m\u001b[1;33m\u001b[0m\u001b[1;33m\u001b[0m\u001b[0m\n\u001b[0m",
      "\u001b[1;32m~\\AppData\\Local\\Temp/ipykernel_32468/1885332894.py\u001b[0m in \u001b[0;36mtask05\u001b[1;34m()\u001b[0m\n\u001b[0;32m     31\u001b[0m         \u001b[1;32melse\u001b[0m  \u001b[1;33m:\u001b[0m\u001b[1;33m\u001b[0m\u001b[1;33m\u001b[0m\u001b[0m\n\u001b[0;32m     32\u001b[0m             \u001b[0mi\u001b[0m \u001b[1;33m=\u001b[0m \u001b[0my2\u001b[0m\u001b[1;33m\u001b[0m\u001b[1;33m\u001b[0m\u001b[0m\n\u001b[1;32m---> 33\u001b[1;33m             \u001b[0mj\u001b[0m \u001b[1;33m=\u001b[0m \u001b[0mX2\u001b[0m\u001b[1;33m\u001b[0m\u001b[1;33m\u001b[0m\u001b[0m\n\u001b[0m\u001b[0;32m     34\u001b[0m             \u001b[1;32mif\u001b[0m \u001b[0mx1\u001b[0m \u001b[1;33m>\u001b[0m \u001b[0mx2\u001b[0m \u001b[1;33m:\u001b[0m\u001b[1;33m\u001b[0m\u001b[1;33m\u001b[0m\u001b[0m\n\u001b[0;32m     35\u001b[0m                 \u001b[1;32mif\u001b[0m \u001b[0my1\u001b[0m \u001b[1;33m>\u001b[0m \u001b[0my2\u001b[0m \u001b[1;33m:\u001b[0m\u001b[1;33m\u001b[0m\u001b[1;33m\u001b[0m\u001b[0m\n",
      "\u001b[1;31mNameError\u001b[0m: name 'X2' is not defined"
     ]
    }
   ],
   "source": []
  },
  {
   "cell_type": "code",
   "execution_count": 143,
   "metadata": {},
   "outputs": [
    {
     "name": "stdout",
     "output_type": "stream",
     "text": [
      "0 300\n",
      "1 388\n",
      "2 521\n",
      "3 708\n",
      "4 947\n",
      "5 1247\n",
      "6 1547\n",
      "7 1847\n",
      "8 2235\n",
      "9 2668\n",
      "10 3243\n",
      "11 4003\n",
      "12 5011\n",
      "13 6258\n",
      "14 7805\n",
      "15 9740\n",
      "16 12020\n",
      "17 14830\n",
      "18 18258\n",
      "19 22509\n",
      "20 27759\n",
      "21 34317\n",
      "22 42510\n",
      "23 52595\n",
      "24 65145\n",
      "25 80593\n",
      "26 99674\n",
      "27 123182\n",
      "28 152249\n",
      "29 188201\n",
      "30 232603\n",
      "31 287663\n",
      "32 355706\n",
      "33 439932\n",
      "34 544033\n"
     ]
    }
   ],
   "source": [
    "def task06() :\n",
    "    fish = [5,4,3,5,1,1,2,1,2,1,3,2,3,4,5,1,2,4,3,2,5,1,4,2,1,1,2,5,4,4,4,1,5,4,5,2,1,2,5,5,4,1,3,1,4,2,4,2,5,1,3,5,3,2,3,1,1,4,5,2,4,3,1,5,5,1,3,1,3,2,2,4,1,3,4,3,3,4,1,3,4,3,4,5,2,1,1,1,4,5,5,1,1,3,2,4,1,2,2,2,4,1,2,5,5,1,4,5,2,4,2,1,5,4,1,3,4,1,2,3,1,5,1,3,4,5,4,1,4,3,3,3,5,5,1,1,5,1,5,5,1,5,2,1,5,1,2,3,5,5,1,3,3,1,5,3,4,3,4,3,2,5,2,1,2,5,1,1,1,1,5,1,1,4,3,3,5,1,1,1,4,4,1,3,3,5,5,4,3,2,1,2,2,3,4,1,5,4,3,1,1,5,1,4,2,3,2,2,3,4,1,3,4,1,4,3,4,3,1,3,3,1,1,4,1,1,1,4,5,3,1,1,2,5,2,5,1,5,3,3,1,3,5,5,1,5,4,3,1,5,1,1,5,5,1,1,2,5,5,5,1,1,3,2,2,3,4,5,5,2,5,4,2,1,5,1,4,4,5,4,4,1,2,1,1,2,3,5,5,1,3,1,4,2,3,3,1,4,1,1]\n",
    "    \n",
    "    newSpawn = []\n",
    "    for day in range(35) :\n",
    "        \n",
    "        counter = 0 \n",
    "        for a in fish :\n",
    "            if( a == 0 ) :\n",
    "                fish[counter] = 6\n",
    "                newSpawn.append(8)\n",
    "            else :\n",
    "                fish[counter] = fish[counter] - 1 \n",
    "            counter = counter + 1\n",
    "\n",
    "        fish.extend(newSpawn)\n",
    "        #print(day,len(newSpawn))\n",
    "        print(day,len(fish))\n",
    "    \n",
    "\n",
    "task06()"
   ]
  }
 ],
 "metadata": {
  "interpreter": {
   "hash": "3cce444031bf5cf3aad78ebdbbb74d98a7faea21c2acc09f4402afffc3f8baae"
  },
  "kernelspec": {
   "display_name": "Python 3.9.7 64-bit ('base': conda)",
   "language": "python",
   "name": "python3"
  },
  "language_info": {
   "codemirror_mode": {
    "name": "ipython",
    "version": 3
   },
   "file_extension": ".py",
   "mimetype": "text/x-python",
   "name": "python",
   "nbconvert_exporter": "python",
   "pygments_lexer": "ipython3",
   "version": "3.9.7"
  },
  "orig_nbformat": 4
 },
 "nbformat": 4,
 "nbformat_minor": 2
}
