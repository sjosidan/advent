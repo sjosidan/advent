{
 "cells": [
  {
   "cell_type": "code",
   "execution_count": 70,
   "metadata": {},
   "outputs": [],
   "source": [
    "import numpy\n",
    "import pandas as pd"
   ]
  },
  {
   "cell_type": "code",
   "execution_count": 71,
   "metadata": {},
   "outputs": [
    {
     "name": "stdout",
     "output_type": "stream",
     "text": [
      "Distance  287\n"
     ]
    }
   ],
   "source": [
    "data01 = open(\"01.txt\", \"r\")\n",
    "lines = data01.readlines()\n",
    "\n",
    "x=0 \n",
    "y=0 \n",
    "facing = [\"S\", \"W\", \"N\", \"E\"]\n",
    "fIndex = 2\n",
    "for r in lines[0].split(\",\") : \n",
    "    if r[0] == \"L\":\n",
    "        fIndex = ((fIndex - 1) + 4) % 4\n",
    "    elif r[0] == \"R\":\n",
    "        fIndex = ((fIndex + 1) + 4) % 4\n",
    "\n",
    "    if facing[fIndex] == \"S\" : \n",
    "        y = y - int(r[1:])\n",
    "    elif facing[fIndex] == \"N\" :\n",
    "        y = y + int(r[1:])\n",
    "    elif facing[fIndex] == \"E\" : \n",
    "        x = x + int(r[1:])\n",
    "    elif facing[fIndex] == \"W\" : \n",
    "        x = x - int(r[1:])\n",
    "    \n",
    "print(\"Distance \", abs(x)+abs(y))"
   ]
  },
  {
   "cell_type": "code",
   "execution_count": null,
   "metadata": {},
   "outputs": [],
   "source": []
  },
  {
   "cell_type": "code",
   "execution_count": null,
   "metadata": {},
   "outputs": [],
   "source": []
  }
 ],
 "metadata": {
  "interpreter": {
   "hash": "3cce444031bf5cf3aad78ebdbbb74d98a7faea21c2acc09f4402afffc3f8baae"
  },
  "kernelspec": {
   "display_name": "Python 3.9.7 64-bit ('base': conda)",
   "language": "python",
   "name": "python3"
  },
  "language_info": {
   "codemirror_mode": {
    "name": "ipython",
    "version": 3
   },
   "file_extension": ".py",
   "mimetype": "text/x-python",
   "name": "python",
   "nbconvert_exporter": "python",
   "pygments_lexer": "ipython3",
   "version": "3.9.7"
  },
  "orig_nbformat": 4
 },
 "nbformat": 4,
 "nbformat_minor": 2
}
