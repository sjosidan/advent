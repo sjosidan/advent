{
 "cells": [
  {
   "cell_type": "code",
   "execution_count": 46,
   "metadata": {},
   "outputs": [],
   "source": [
    "import numpy\n",
    "import pandas as pd\n"
   ]
  },
  {
   "cell_type": "code",
   "execution_count": 48,
   "metadata": {},
   "outputs": [
    {
     "name": "stdout",
     "output_type": "stream",
     "text": [
      "Empty DataFrame\n",
      "Columns: [R5, L2, L1, R1, R3, R3.1, L3, R3.2, R4, L2.1, R4.1, L4, R4.2, R3.3, L2.2, L1.1, L1.2, R2, R4.3, R4.4, L4.1, R3.4, L2.3, R1.1, L4.2, R1.2, R3.5, L5, L4.3, L5.1, R3.6, L3.1, L1.3, L1.4, R4.5, R2.1, R2.2, L1.5, L4.4, R191, R5.1, L2.4, R46, R3.7, L1.6, R74, L2.5, R2.3, R187, R3.8, R4.6, R1.3, L4.5, L4.6, L2.6, R4.7, L5.2, R4.8, R3.9, L2.7, L1.7, R3.10, R3.11, R3.12, R1.4, R1.5, L4.7, R4.9, R1.6, R5.2, R2.4, R1.7, R3.13, L4.8, L2.8, L2.9, R1.8, L3.2, R1.9, R3.14, L5.3, L3.3, R5.3, R3.15, R4.10, L1.8, R3.16, R2.5, R1.10, R2.6, L4.9, L1.9, L1.10, R3.17, L3.4, R4.11, L2.10, L4.10, L5.4, L5.5, ...]\n",
      "Index: []\n",
      "\n",
      "[0 rows x 149 columns]\n",
      "R5\n",
      "R5   5 0  Turn,  E   5  steps \n",
      "L2\n",
      "L2   5 2  Turn,  N   2  steps \n",
      "L1\n",
      "L1   4 2  Turn,  W   1  steps \n",
      "R1\n",
      "R1   4 3  Turn,  N   1  steps \n",
      "R3\n",
      "R3   7 3  Turn,  E   3  steps \n",
      "R3.1\n"
     ]
    },
    {
     "ename": "ValueError",
     "evalue": "invalid literal for int() with base 10: '3.1'",
     "output_type": "error",
     "traceback": [
      "\u001b[1;31m---------------------------------------------------------------------------\u001b[0m",
      "\u001b[1;31mValueError\u001b[0m                                Traceback (most recent call last)",
      "\u001b[1;32m~\\AppData\\Local\\Temp/ipykernel_21516/1404087544.py\u001b[0m in \u001b[0;36m<module>\u001b[1;34m\u001b[0m\n\u001b[0;32m     14\u001b[0m \u001b[1;33m\u001b[0m\u001b[0m\n\u001b[0;32m     15\u001b[0m     \u001b[1;32mif\u001b[0m \u001b[0mfacing\u001b[0m\u001b[1;33m[\u001b[0m\u001b[0mfIndex\u001b[0m\u001b[1;33m]\u001b[0m \u001b[1;33m==\u001b[0m \u001b[1;34m\"S\"\u001b[0m \u001b[1;33m:\u001b[0m\u001b[1;33m\u001b[0m\u001b[1;33m\u001b[0m\u001b[0m\n\u001b[1;32m---> 16\u001b[1;33m         \u001b[0my\u001b[0m \u001b[1;33m=\u001b[0m \u001b[0my\u001b[0m \u001b[1;33m-\u001b[0m \u001b[0mint\u001b[0m\u001b[1;33m(\u001b[0m\u001b[0mr\u001b[0m\u001b[1;33m[\u001b[0m\u001b[1;36m1\u001b[0m\u001b[1;33m:\u001b[0m\u001b[1;33m]\u001b[0m\u001b[1;33m)\u001b[0m\u001b[1;33m\u001b[0m\u001b[1;33m\u001b[0m\u001b[0m\n\u001b[0m\u001b[0;32m     17\u001b[0m     \u001b[1;32melif\u001b[0m \u001b[0mfacing\u001b[0m\u001b[1;33m[\u001b[0m\u001b[0mfIndex\u001b[0m\u001b[1;33m]\u001b[0m \u001b[1;33m==\u001b[0m \u001b[1;34m\"N\"\u001b[0m \u001b[1;33m:\u001b[0m\u001b[1;33m\u001b[0m\u001b[1;33m\u001b[0m\u001b[0m\n\u001b[0;32m     18\u001b[0m         \u001b[0my\u001b[0m \u001b[1;33m=\u001b[0m \u001b[0my\u001b[0m \u001b[1;33m+\u001b[0m \u001b[0mint\u001b[0m\u001b[1;33m(\u001b[0m\u001b[0mr\u001b[0m\u001b[1;33m[\u001b[0m\u001b[1;36m1\u001b[0m\u001b[1;33m:\u001b[0m\u001b[1;33m]\u001b[0m\u001b[1;33m)\u001b[0m\u001b[1;33m\u001b[0m\u001b[1;33m\u001b[0m\u001b[0m\n",
      "\u001b[1;31mValueError\u001b[0m: invalid literal for int() with base 10: '3.1'"
     ]
    }
   ],
   "source": [
    "data01 = pd.read_csv(r\"01.txt\")\n",
    "print(data01.head(10))\n",
    "x=0 \n",
    "y=0 \n",
    "facing = [\"S\", \"W\", \"N\", \"E\"]\n",
    "fIndex = 2\n",
    "for r in data01 : \n",
    "    if r[0] == \"L\":\n",
    "        fIndex = ((fIndex - 1) + 4) % 4\n",
    "    elif r[0] == \"R\":\n",
    "        fIndex = ((fIndex + 1) + 4) % 4\n",
    "    \n",
    "    print(r)\n",
    "\n",
    "    if facing[fIndex] == \"S\" : \n",
    "        y = y - int(r[1:])\n",
    "    elif facing[fIndex] == \"N\" :\n",
    "        y = y + int(r[1:])\n",
    "    elif facing[fIndex] == \"E\" : \n",
    "        x = x + int(r[1:])\n",
    "    elif facing[fIndex] == \"W\" : \n",
    "        x = x - int(r[1:])\n",
    "    \n",
    "    print(r ,\" \",x,y,\" Turn, \", facing[fIndex], \" \", r[1:], \" steps \")\n",
    "\n",
    "print(\"Distance \", abs(x)+abs(y))"
   ]
  },
  {
   "cell_type": "code",
   "execution_count": null,
   "metadata": {},
   "outputs": [],
   "source": []
  },
  {
   "cell_type": "code",
   "execution_count": null,
   "metadata": {},
   "outputs": [],
   "source": []
  }
 ],
 "metadata": {
  "interpreter": {
   "hash": "3cce444031bf5cf3aad78ebdbbb74d98a7faea21c2acc09f4402afffc3f8baae"
  },
  "kernelspec": {
   "display_name": "Python 3.9.7 64-bit ('base': conda)",
   "language": "python",
   "name": "python3"
  },
  "language_info": {
   "codemirror_mode": {
    "name": "ipython",
    "version": 3
   },
   "file_extension": ".py",
   "mimetype": "text/x-python",
   "name": "python",
   "nbconvert_exporter": "python",
   "pygments_lexer": "ipython3",
   "version": "3.9.7"
  },
  "orig_nbformat": 4
 },
 "nbformat": 4,
 "nbformat_minor": 2
}
