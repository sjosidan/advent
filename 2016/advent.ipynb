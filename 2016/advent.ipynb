{
 "cells": [
  {
   "cell_type": "code",
   "execution_count": 304,
   "metadata": {},
   "outputs": [],
   "source": [
    "import numpy\n",
    "import pandas as pd\n"
   ]
  },
  {
   "cell_type": "code",
   "execution_count": 305,
   "metadata": {},
   "outputs": [],
   "source": [
    "def getMultiListOfObj(filename):\n",
    "    data01 = open(filename, \"r\")\n",
    "    lines = data01.readlines()\n",
    "    return lines"
   ]
  },
  {
   "cell_type": "code",
   "execution_count": 306,
   "metadata": {},
   "outputs": [],
   "source": [
    "def getSingleListOfObj(filename, delim):\n",
    "    data01 = open(filename, \"r\")\n",
    "    lines = data01.readlines()\n",
    "    return lines[0].split(delim)"
   ]
  },
  {
   "cell_type": "code",
   "execution_count": 307,
   "metadata": {},
   "outputs": [],
   "source": [
    "def task01() : \n",
    "    instructions = getListOfObj(\"01.txt\", \",\")\n",
    "    alreadyVistited = []\n",
    "    x=0 \n",
    "    y=0 \n",
    "    facing = [\"S\", \"W\", \"N\", \"E\"]\n",
    "    fIndex = 2\n",
    "    visted = {}\n",
    "    for r in instructions : \n",
    "        if r[0] == \"L\":\n",
    "            fIndex = ((fIndex - 1) + 4) % 4\n",
    "        elif r[0] == \"R\":\n",
    "            fIndex = ((fIndex + 1) + 4) % 4\n",
    "\n",
    "        if facing[fIndex] == \"S\" : \n",
    "            y = y - int(r[1:])\n",
    "        elif facing[fIndex] == \"N\" :\n",
    "            y = y + int(r[1:])\n",
    "        elif facing[fIndex] == \"E\" : \n",
    "            x = x + int(r[1:])\n",
    "        elif facing[fIndex] == \"W\" : \n",
    "            x = x - int(r[1:])\n",
    "\n",
    "        place = \"\"+ str(x)  + \"---\" + str(y)\n",
    "        \n",
    "        if place in visted:\n",
    "            alreadyVistited.append((x,y))\n",
    "            #break\n",
    "        else : \n",
    "            visted[place] = \"ss\"\n",
    "\n",
    "    xx, yy = alreadyVistited[0]\n",
    "    print(\"First visited\", xx, yy)\n",
    "    \n",
    "    print(x,y,\" - 1A - Distance \", abs(x)+abs(y))\n",
    "    print(xx,yy,\" - 1B - Distance \", abs(xx)+abs(yy))\n",
    "    print(\"Distance between A-B\",abs(x-xx)+ abs(y-yy))"
   ]
  },
  {
   "cell_type": "code",
   "execution_count": 308,
   "metadata": {},
   "outputs": [],
   "source": [
    "def task02a() :\n",
    "    lines = getMultiListOfObj(\"02.txt\")\n",
    "    currentKey = 5\n",
    "    code = []\n",
    "    for key in lines :\n",
    "        for instr in key :\n",
    "            if instr == \"U\":\n",
    "                if currentKey > 3 :\n",
    "                    currentKey = currentKey - 3\n",
    "            elif instr == \"D\":\n",
    "                if currentKey < 7 :\n",
    "                    currentKey = currentKey + 3\n",
    "            elif instr == \"L\":\n",
    "                if currentKey not in [1,4,7] :\n",
    "                    currentKey = currentKey - 1\n",
    "            elif instr == \"R\":\n",
    "                if currentKey not in [3,6,9] :\n",
    "                    currentKey = currentKey + 1\n",
    "        code.append(currentKey)\n",
    "        \n",
    "    print(code)\n",
    "\n",
    "\n",
    "def task02b() :\n",
    "    lines = getMultiListOfObj(\"02.txt\")\n",
    "    currentKey = 5\n",
    "    code = []\n",
    "    for key in lines :\n",
    "        for instr in key :\n",
    "            \n",
    "            if instr == \"U\":\n",
    "                if currentKey in [6,7,8,10,11,12]  :\n",
    "                    currentKey = currentKey - 4\n",
    "                elif currentKey in [13]  :\n",
    "                    currentKey = 11\n",
    "                elif currentKey in [3]  :\n",
    "                    currentKey = 1\n",
    "            \n",
    "            elif instr == \"D\":\n",
    "                if currentKey in [2,3,4,6,7,8]  :\n",
    "                    currentKey = currentKey + 4\n",
    "                elif currentKey in [11]  :\n",
    "                    currentKey = 13\n",
    "                elif currentKey in [1]  :\n",
    "                    currentKey = 3\n",
    "            \n",
    "            elif instr == \"L\":\n",
    "                if currentKey not in [1,2,5,10,13] :\n",
    "                    currentKey = currentKey - 1\n",
    "            elif instr == \"R\":\n",
    "                if currentKey not in [1,4,9,12,13] :\n",
    "                    currentKey = currentKey + 1\n",
    "        \n",
    "        if currentKey == 10 :\n",
    "            code.append(\"A\")\n",
    "        elif currentKey == 11 :\n",
    "            code.append(\"B\")\n",
    "        elif currentKey == 12 :\n",
    "            code.append(\"C\")\n",
    "        elif currentKey == 13 :\n",
    "            code.append(\"D\")\n",
    "        else :\n",
    "            code.append(currentKey)\n",
    "\n",
    "        \n",
    "    print(code)\n",
    "\n"
   ]
  },
  {
   "cell_type": "code",
   "execution_count": 309,
   "metadata": {},
   "outputs": [
    {
     "name": "stdout",
     "output_type": "stream",
     "text": [
      "[6, 5, 5, 5, 6]\n",
      "[5, 'D', 'B', 3]\n"
     ]
    }
   ],
   "source": [
    "#task01()\n",
    "task02a()\n",
    "task02b()"
   ]
  },
  {
   "cell_type": "code",
   "execution_count": null,
   "metadata": {},
   "outputs": [],
   "source": []
  },
  {
   "cell_type": "code",
   "execution_count": null,
   "metadata": {},
   "outputs": [],
   "source": []
  }
 ],
 "metadata": {
  "interpreter": {
   "hash": "3cce444031bf5cf3aad78ebdbbb74d98a7faea21c2acc09f4402afffc3f8baae"
  },
  "kernelspec": {
   "display_name": "Python 3.9.7 64-bit ('base': conda)",
   "language": "python",
   "name": "python3"
  },
  "language_info": {
   "codemirror_mode": {
    "name": "ipython",
    "version": 3
   },
   "file_extension": ".py",
   "mimetype": "text/x-python",
   "name": "python",
   "nbconvert_exporter": "python",
   "pygments_lexer": "ipython3",
   "version": "3.9.7"
  },
  "orig_nbformat": 4
 },
 "nbformat": 4,
 "nbformat_minor": 2
}
